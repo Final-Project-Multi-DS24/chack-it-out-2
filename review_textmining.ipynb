{
 "cells": [
  {
   "cell_type": "code",
   "execution_count": 1,
   "id": "e1329325",
   "metadata": {},
   "outputs": [],
   "source": [
    "import pickle\n",
    "import pandas as pd\n",
    "import numpy as np\n",
    "import matplotlib.pyplot as plt\n",
    "import re\n",
    "import urllib.request\n",
    "import nltk\n",
    "from konlpy.tag import Okt\n",
    "from tqdm import tqdm\n",
    "#from tensorflow.keras.preprocessing.text import Tokenizer\n",
    "#from tensorflow.keras.preprocessing.sequence import pad_sequences"
   ]
  },
  {
   "cell_type": "code",
   "execution_count": 11,
   "id": "756094a2",
   "metadata": {},
   "outputs": [
    {
     "data": {
      "text/html": [
       "<div>\n",
       "<style scoped>\n",
       "    .dataframe tbody tr th:only-of-type {\n",
       "        vertical-align: middle;\n",
       "    }\n",
       "\n",
       "    .dataframe tbody tr th {\n",
       "        vertical-align: top;\n",
       "    }\n",
       "\n",
       "    .dataframe thead th {\n",
       "        text-align: right;\n",
       "    }\n",
       "</style>\n",
       "<table border=\"1\" class=\"dataframe\">\n",
       "  <thead>\n",
       "    <tr style=\"text-align: right;\">\n",
       "      <th></th>\n",
       "      <th>0</th>\n",
       "    </tr>\n",
       "  </thead>\n",
       "  <tbody>\n",
       "    <tr>\n",
       "      <th>0</th>\n",
       "      <td>출판사 탓일 수도 있고 저자 탓일 수도 있지만, 전작 출판한지 반년도 안되어서 확장...</td>\n",
       "    </tr>\n",
       "    <tr>\n",
       "      <th>1</th>\n",
       "      <td>매대에서 훑으면 족하다. 판매되지 않겠다는 의지조차 팔아치우는 마케팅의 자아포식성을...</td>\n",
       "    </tr>\n",
       "    <tr>\n",
       "      <th>2</th>\n",
       "      <td>않읽어도 되는책작가도 프로그래밍을 못배운것이 한이라고 적혀있다이책에서 누누히강조하는...</td>\n",
       "    </tr>\n",
       "    <tr>\n",
       "      <th>3</th>\n",
       "      <td>양질의 책을 읽으세요저급하고 단순한 문구에 홀리셨나요 과연 영양가가 있을까요.깊이있...</td>\n",
       "    </tr>\n",
       "    <tr>\n",
       "      <th>4</th>\n",
       "      <td>비판적 책읽기의 중요성.별5개는 그냥 유투브를 보라.. 뭐하러 독서를 하는디 ㅋㅋ</td>\n",
       "    </tr>\n",
       "    <tr>\n",
       "      <th>...</th>\n",
       "      <td>...</td>\n",
       "    </tr>\n",
       "    <tr>\n",
       "      <th>81814</th>\n",
       "      <td>근데 이사람 왜 파산했을까요....</td>\n",
       "    </tr>\n",
       "    <tr>\n",
       "      <th>81815</th>\n",
       "      <td>대화에 지쳤을때 도움이됩니다.</td>\n",
       "    </tr>\n",
       "    <tr>\n",
       "      <th>81816</th>\n",
       "      <td>바이블</td>\n",
       "    </tr>\n",
       "    <tr>\n",
       "      <th>81817</th>\n",
       "      <td>내용은 쉽지 않지만, 1995년 책이 지금까지 읽힌다는건 현재에도 배울게 많다는 말...</td>\n",
       "    </tr>\n",
       "    <tr>\n",
       "      <th>81818</th>\n",
       "      <td>1844년 영국 노동자 계급의 처지를 거주지역과 경쟁의 관점에서 분석한 숨겨진 걸작</td>\n",
       "    </tr>\n",
       "  </tbody>\n",
       "</table>\n",
       "<p>81819 rows × 1 columns</p>\n",
       "</div>"
      ],
      "text/plain": [
       "                                                       0\n",
       "0      출판사 탓일 수도 있고 저자 탓일 수도 있지만, 전작 출판한지 반년도 안되어서 확장...\n",
       "1      매대에서 훑으면 족하다. 판매되지 않겠다는 의지조차 팔아치우는 마케팅의 자아포식성을...\n",
       "2      않읽어도 되는책작가도 프로그래밍을 못배운것이 한이라고 적혀있다이책에서 누누히강조하는...\n",
       "3      양질의 책을 읽으세요저급하고 단순한 문구에 홀리셨나요 과연 영양가가 있을까요.깊이있...\n",
       "4        비판적 책읽기의 중요성.별5개는 그냥 유투브를 보라.. 뭐하러 독서를 하는디 ㅋㅋ  \n",
       "...                                                  ...\n",
       "81814                              근데 이사람 왜 파산했을까요....  \n",
       "81815                                 대화에 지쳤을때 도움이됩니다.  \n",
       "81816                                              바이블  \n",
       "81817  내용은 쉽지 않지만, 1995년 책이 지금까지 읽힌다는건 현재에도 배울게 많다는 말...\n",
       "81818   1844년 영국 노동자 계급의 처지를 거주지역과 경쟁의 관점에서 분석한 숨겨진 걸작  \n",
       "\n",
       "[81819 rows x 1 columns]"
      ]
     },
     "execution_count": 11,
     "metadata": {},
     "output_type": "execute_result"
    }
   ],
   "source": [
    "economy_review_df = pd.read_csv('/Users/wonsik/GitHub/chack-it-out-2/data/economy_review.csv')\n",
    "economy_review_df"
   ]
  },
  {
   "cell_type": "code",
   "execution_count": 12,
   "id": "4a8f18d0",
   "metadata": {},
   "outputs": [
    {
     "data": {
      "text/html": [
       "<div>\n",
       "<style scoped>\n",
       "    .dataframe tbody tr th:only-of-type {\n",
       "        vertical-align: middle;\n",
       "    }\n",
       "\n",
       "    .dataframe tbody tr th {\n",
       "        vertical-align: top;\n",
       "    }\n",
       "\n",
       "    .dataframe thead th {\n",
       "        text-align: right;\n",
       "    }\n",
       "</style>\n",
       "<table border=\"1\" class=\"dataframe\">\n",
       "  <thead>\n",
       "    <tr style=\"text-align: right;\">\n",
       "      <th></th>\n",
       "      <th>reviews</th>\n",
       "    </tr>\n",
       "  </thead>\n",
       "  <tbody>\n",
       "    <tr>\n",
       "      <th>0</th>\n",
       "      <td>출판사 탓일 수도 있고 저자 탓일 수도 있지만, 전작 출판한지 반년도 안되어서 확장...</td>\n",
       "    </tr>\n",
       "    <tr>\n",
       "      <th>1</th>\n",
       "      <td>매대에서 훑으면 족하다. 판매되지 않겠다는 의지조차 팔아치우는 마케팅의 자아포식성을...</td>\n",
       "    </tr>\n",
       "    <tr>\n",
       "      <th>2</th>\n",
       "      <td>않읽어도 되는책작가도 프로그래밍을 못배운것이 한이라고 적혀있다이책에서 누누히강조하는...</td>\n",
       "    </tr>\n",
       "    <tr>\n",
       "      <th>3</th>\n",
       "      <td>양질의 책을 읽으세요저급하고 단순한 문구에 홀리셨나요 과연 영양가가 있을까요.깊이있...</td>\n",
       "    </tr>\n",
       "    <tr>\n",
       "      <th>4</th>\n",
       "      <td>비판적 책읽기의 중요성.별5개는 그냥 유투브를 보라.. 뭐하러 독서를 하는디 ㅋㅋ</td>\n",
       "    </tr>\n",
       "    <tr>\n",
       "      <th>...</th>\n",
       "      <td>...</td>\n",
       "    </tr>\n",
       "    <tr>\n",
       "      <th>81814</th>\n",
       "      <td>근데 이사람 왜 파산했을까요....</td>\n",
       "    </tr>\n",
       "    <tr>\n",
       "      <th>81815</th>\n",
       "      <td>대화에 지쳤을때 도움이됩니다.</td>\n",
       "    </tr>\n",
       "    <tr>\n",
       "      <th>81816</th>\n",
       "      <td>바이블</td>\n",
       "    </tr>\n",
       "    <tr>\n",
       "      <th>81817</th>\n",
       "      <td>내용은 쉽지 않지만, 1995년 책이 지금까지 읽힌다는건 현재에도 배울게 많다는 말...</td>\n",
       "    </tr>\n",
       "    <tr>\n",
       "      <th>81818</th>\n",
       "      <td>1844년 영국 노동자 계급의 처지를 거주지역과 경쟁의 관점에서 분석한 숨겨진 걸작</td>\n",
       "    </tr>\n",
       "  </tbody>\n",
       "</table>\n",
       "<p>81819 rows × 1 columns</p>\n",
       "</div>"
      ],
      "text/plain": [
       "                                                 reviews\n",
       "0      출판사 탓일 수도 있고 저자 탓일 수도 있지만, 전작 출판한지 반년도 안되어서 확장...\n",
       "1      매대에서 훑으면 족하다. 판매되지 않겠다는 의지조차 팔아치우는 마케팅의 자아포식성을...\n",
       "2      않읽어도 되는책작가도 프로그래밍을 못배운것이 한이라고 적혀있다이책에서 누누히강조하는...\n",
       "3      양질의 책을 읽으세요저급하고 단순한 문구에 홀리셨나요 과연 영양가가 있을까요.깊이있...\n",
       "4        비판적 책읽기의 중요성.별5개는 그냥 유투브를 보라.. 뭐하러 독서를 하는디 ㅋㅋ  \n",
       "...                                                  ...\n",
       "81814                              근데 이사람 왜 파산했을까요....  \n",
       "81815                                 대화에 지쳤을때 도움이됩니다.  \n",
       "81816                                              바이블  \n",
       "81817  내용은 쉽지 않지만, 1995년 책이 지금까지 읽힌다는건 현재에도 배울게 많다는 말...\n",
       "81818   1844년 영국 노동자 계급의 처지를 거주지역과 경쟁의 관점에서 분석한 숨겨진 걸작  \n",
       "\n",
       "[81819 rows x 1 columns]"
      ]
     },
     "execution_count": 12,
     "metadata": {},
     "output_type": "execute_result"
    }
   ],
   "source": [
    "economy_review_df = economy_review_df.rename(columns={'0':'reviews'})\n",
    "economy_review_df"
   ]
  },
  {
   "cell_type": "code",
   "execution_count": 13,
   "id": "c7d4fb33",
   "metadata": {},
   "outputs": [
    {
     "data": {
      "text/plain": [
       "reviews    $2022-10_당신에게 선빵을 날리겠다.당신은 ˝메신저˝에 대해서 얼마나 모르고 ...\n",
       "Name: 1774, dtype: object"
      ]
     },
     "execution_count": 13,
     "metadata": {},
     "output_type": "execute_result"
    }
   ],
   "source": [
    "economy_review_df.loc[1774]"
   ]
  },
  {
   "cell_type": "code",
   "execution_count": 14,
   "id": "02a7813a",
   "metadata": {},
   "outputs": [
    {
     "data": {
      "text/plain": [
       "reviews     _당신에게 선빵을 날리겠다.당신은 ˝메신저˝에 대해서 얼마나 모르고 있는것을 얼마...\n",
       "Name: 1774, dtype: object"
      ]
     },
     "execution_count": 14,
     "metadata": {},
     "output_type": "execute_result"
    }
   ],
   "source": [
    "# $2022-10 형식 제거\n",
    "economy_review_df['reviews'] = [re.sub(r\"[$]{1,4}[0-9]{4}-[0-9]{1,2}\", \" \", review) for review in economy_review_df['reviews']]\n",
    "economy_review_df.loc[1774]"
   ]
  },
  {
   "cell_type": "code",
   "execution_count": 15,
   "id": "7f5bc092",
   "metadata": {},
   "outputs": [
    {
     "data": {
      "text/html": [
       "<div>\n",
       "<style scoped>\n",
       "    .dataframe tbody tr th:only-of-type {\n",
       "        vertical-align: middle;\n",
       "    }\n",
       "\n",
       "    .dataframe tbody tr th {\n",
       "        vertical-align: top;\n",
       "    }\n",
       "\n",
       "    .dataframe thead th {\n",
       "        text-align: right;\n",
       "    }\n",
       "</style>\n",
       "<table border=\"1\" class=\"dataframe\">\n",
       "  <thead>\n",
       "    <tr style=\"text-align: right;\">\n",
       "      <th></th>\n",
       "      <th>reviews</th>\n",
       "    </tr>\n",
       "  </thead>\n",
       "  <tbody>\n",
       "    <tr>\n",
       "      <th>0</th>\n",
       "      <td>출판사 탓일 수도 있고 저자 탓일 수도 있지만, 전작 출판한지 반년도 안되어서 확장...</td>\n",
       "    </tr>\n",
       "    <tr>\n",
       "      <th>1</th>\n",
       "      <td>매대에서 훑으면 족하다. 판매되지 않겠다는 의지조차 팔아치우는 마케팅의 자아포식성을...</td>\n",
       "    </tr>\n",
       "    <tr>\n",
       "      <th>2</th>\n",
       "      <td>않읽어도 되는책작가도 프로그래밍을 못배운것이 한이라고 적혀있다이책에서 누누히강조하는...</td>\n",
       "    </tr>\n",
       "    <tr>\n",
       "      <th>3</th>\n",
       "      <td>양질의 책을 읽으세요저급하고 단순한 문구에 홀리셨나요 과연 영양가가 있을까요.깊이있...</td>\n",
       "    </tr>\n",
       "    <tr>\n",
       "      <th>4</th>\n",
       "      <td>비판적 책읽기의 중요성.별5개는 그냥 유투브를 보라.. 뭐하러 독서를 하는디 ㅋㅋ</td>\n",
       "    </tr>\n",
       "    <tr>\n",
       "      <th>...</th>\n",
       "      <td>...</td>\n",
       "    </tr>\n",
       "    <tr>\n",
       "      <th>81814</th>\n",
       "      <td>근데 이사람 왜 파산했을까요....</td>\n",
       "    </tr>\n",
       "    <tr>\n",
       "      <th>81815</th>\n",
       "      <td>대화에 지쳤을때 도움이됩니다.</td>\n",
       "    </tr>\n",
       "    <tr>\n",
       "      <th>81816</th>\n",
       "      <td>바이블</td>\n",
       "    </tr>\n",
       "    <tr>\n",
       "      <th>81817</th>\n",
       "      <td>내용은 쉽지 않지만, 1995년 책이 지금까지 읽힌다는건 현재에도 배울게 많다는 말...</td>\n",
       "    </tr>\n",
       "    <tr>\n",
       "      <th>81818</th>\n",
       "      <td>1844년 영국 노동자 계급의 처지를 거주지역과 경쟁의 관점에서 분석한 숨겨진 걸작</td>\n",
       "    </tr>\n",
       "  </tbody>\n",
       "</table>\n",
       "<p>81819 rows × 1 columns</p>\n",
       "</div>"
      ],
      "text/plain": [
       "                                                 reviews\n",
       "0      출판사 탓일 수도 있고 저자 탓일 수도 있지만, 전작 출판한지 반년도 안되어서 확장...\n",
       "1      매대에서 훑으면 족하다. 판매되지 않겠다는 의지조차 팔아치우는 마케팅의 자아포식성을...\n",
       "2      않읽어도 되는책작가도 프로그래밍을 못배운것이 한이라고 적혀있다이책에서 누누히강조하는...\n",
       "3      양질의 책을 읽으세요저급하고 단순한 문구에 홀리셨나요 과연 영양가가 있을까요.깊이있...\n",
       "4        비판적 책읽기의 중요성.별5개는 그냥 유투브를 보라.. 뭐하러 독서를 하는디 ㅋㅋ  \n",
       "...                                                  ...\n",
       "81814                              근데 이사람 왜 파산했을까요....  \n",
       "81815                                 대화에 지쳤을때 도움이됩니다.  \n",
       "81816                                              바이블  \n",
       "81817  내용은 쉽지 않지만, 1995년 책이 지금까지 읽힌다는건 현재에도 배울게 많다는 말...\n",
       "81818   1844년 영국 노동자 계급의 처지를 거주지역과 경쟁의 관점에서 분석한 숨겨진 걸작  \n",
       "\n",
       "[81819 rows x 1 columns]"
      ]
     },
     "execution_count": 15,
     "metadata": {},
     "output_type": "execute_result"
    }
   ],
   "source": [
    "# URL 제거, http로 시작되는 url\n",
    "economy_review_df['reviews'] = [re.sub(r\"http[s]?://(?:[a-zA-Z]|[0-9]|[$-_@.&+]|[!*\\(\\),]|(?:%[0-9a-fA-F][0-9a-fA-F]))+\", \" \", review) \n",
    "                                for review in economy_review_df['reviews']]\n",
    "economy_review_df"
   ]
  },
  {
   "cell_type": "code",
   "execution_count": 16,
   "id": "0fa3c6a9",
   "metadata": {},
   "outputs": [
    {
     "data": {
      "text/html": [
       "<div>\n",
       "<style scoped>\n",
       "    .dataframe tbody tr th:only-of-type {\n",
       "        vertical-align: middle;\n",
       "    }\n",
       "\n",
       "    .dataframe tbody tr th {\n",
       "        vertical-align: top;\n",
       "    }\n",
       "\n",
       "    .dataframe thead th {\n",
       "        text-align: right;\n",
       "    }\n",
       "</style>\n",
       "<table border=\"1\" class=\"dataframe\">\n",
       "  <thead>\n",
       "    <tr style=\"text-align: right;\">\n",
       "      <th></th>\n",
       "      <th>reviews</th>\n",
       "    </tr>\n",
       "  </thead>\n",
       "  <tbody>\n",
       "    <tr>\n",
       "      <th>0</th>\n",
       "      <td>출판사 탓일 수도 있고 저자 탓일 수도 있지만  전작 출판한지 반년도 안되어서 확장...</td>\n",
       "    </tr>\n",
       "    <tr>\n",
       "      <th>1</th>\n",
       "      <td>매대에서 훑으면 족하다  판매되지 않겠다는 의지조차 팔아치우는 마케팅의 자아포식성을...</td>\n",
       "    </tr>\n",
       "    <tr>\n",
       "      <th>2</th>\n",
       "      <td>않읽어도 되는책작가도 프로그래밍을 못배운것이 한이라고 적혀있다이책에서 누누히강조하는...</td>\n",
       "    </tr>\n",
       "    <tr>\n",
       "      <th>3</th>\n",
       "      <td>양질의 책을 읽으세요저급하고 단순한 문구에 홀리셨나요 과연 영양가가 있을까요 깊이있...</td>\n",
       "    </tr>\n",
       "    <tr>\n",
       "      <th>4</th>\n",
       "      <td>비판적 책읽기의 중요성 별5개는 그냥 유투브를 보라   뭐하러 독서를 하는디 ㅋㅋ</td>\n",
       "    </tr>\n",
       "    <tr>\n",
       "      <th>...</th>\n",
       "      <td>...</td>\n",
       "    </tr>\n",
       "    <tr>\n",
       "      <th>81814</th>\n",
       "      <td>근데 이사람 왜 파산했을까요</td>\n",
       "    </tr>\n",
       "    <tr>\n",
       "      <th>81815</th>\n",
       "      <td>대화에 지쳤을때 도움이됩니다</td>\n",
       "    </tr>\n",
       "    <tr>\n",
       "      <th>81816</th>\n",
       "      <td>바이블</td>\n",
       "    </tr>\n",
       "    <tr>\n",
       "      <th>81817</th>\n",
       "      <td>내용은 쉽지 않지만  1995년 책이 지금까지 읽힌다는건 현재에도 배울게 많다는 말...</td>\n",
       "    </tr>\n",
       "    <tr>\n",
       "      <th>81818</th>\n",
       "      <td>1844년 영국 노동자 계급의 처지를 거주지역과 경쟁의 관점에서 분석한 숨겨진 걸작</td>\n",
       "    </tr>\n",
       "  </tbody>\n",
       "</table>\n",
       "<p>81819 rows × 1 columns</p>\n",
       "</div>"
      ],
      "text/plain": [
       "                                                 reviews\n",
       "0      출판사 탓일 수도 있고 저자 탓일 수도 있지만  전작 출판한지 반년도 안되어서 확장...\n",
       "1      매대에서 훑으면 족하다  판매되지 않겠다는 의지조차 팔아치우는 마케팅의 자아포식성을...\n",
       "2      않읽어도 되는책작가도 프로그래밍을 못배운것이 한이라고 적혀있다이책에서 누누히강조하는...\n",
       "3      양질의 책을 읽으세요저급하고 단순한 문구에 홀리셨나요 과연 영양가가 있을까요 깊이있...\n",
       "4        비판적 책읽기의 중요성 별5개는 그냥 유투브를 보라   뭐하러 독서를 하는디 ㅋㅋ  \n",
       "...                                                  ...\n",
       "81814                              근데 이사람 왜 파산했을까요      \n",
       "81815                                 대화에 지쳤을때 도움이됩니다   \n",
       "81816                                              바이블  \n",
       "81817  내용은 쉽지 않지만  1995년 책이 지금까지 읽힌다는건 현재에도 배울게 많다는 말...\n",
       "81818   1844년 영국 노동자 계급의 처지를 거주지역과 경쟁의 관점에서 분석한 숨겨진 걸작  \n",
       "\n",
       "[81819 rows x 1 columns]"
      ]
     },
     "execution_count": 16,
     "metadata": {},
     "output_type": "execute_result"
    }
   ],
   "source": [
    "# 한글, 영어, 숫자 제외하고 제거\n",
    "economy_review_df['reviews'] = [re.sub(r\"[^0-9a-zA-Zㄱ-ㅎ가-힣]\", \" \", review) for review in economy_review_df['reviews']]\n",
    "economy_review_df"
   ]
  },
  {
   "cell_type": "code",
   "execution_count": 17,
   "id": "3256e28a",
   "metadata": {},
   "outputs": [
    {
     "data": {
      "text/plain": [
       "reviews    혜성처럼 나타난 금융혁신 토스가 오늘에 이르기까지의 진짜 이야기    \n",
       "Name: 4923, dtype: object"
      ]
     },
     "execution_count": 17,
     "metadata": {},
     "output_type": "execute_result"
    }
   ],
   "source": [
    "economy_review_df.iloc[4923]"
   ]
  },
  {
   "cell_type": "code",
   "execution_count": 18,
   "id": "48004514",
   "metadata": {},
   "outputs": [
    {
     "data": {
      "text/plain": [
       "reviews      이 책은 내가 쓸 책과 가장 비슷하다  매우 뛰어나고 비범한 책이다 물론 프로메...\n",
       "Name: 2166, dtype: object"
      ]
     },
     "execution_count": 18,
     "metadata": {},
     "output_type": "execute_result"
    }
   ],
   "source": [
    "economy_review_df.loc[2166]"
   ]
  },
  {
   "cell_type": "code",
   "execution_count": 19,
   "id": "cd2043b3",
   "metadata": {},
   "outputs": [
    {
     "data": {
      "text/plain": [
       "reviews      당신에게 선빵을 날리겠다 당신은  메신저 에 대해서 얼마나 모르고 있는것을 얼마...\n",
       "Name: 1774, dtype: object"
      ]
     },
     "execution_count": 19,
     "metadata": {},
     "output_type": "execute_result"
    }
   ],
   "source": [
    "economy_review_df.loc[1774]"
   ]
  },
  {
   "cell_type": "code",
   "execution_count": 20,
   "id": "f7b0d0c3",
   "metadata": {},
   "outputs": [
    {
     "data": {
      "text/html": [
       "<div>\n",
       "<style scoped>\n",
       "    .dataframe tbody tr th:only-of-type {\n",
       "        vertical-align: middle;\n",
       "    }\n",
       "\n",
       "    .dataframe tbody tr th {\n",
       "        vertical-align: top;\n",
       "    }\n",
       "\n",
       "    .dataframe thead th {\n",
       "        text-align: right;\n",
       "    }\n",
       "</style>\n",
       "<table border=\"1\" class=\"dataframe\">\n",
       "  <thead>\n",
       "    <tr style=\"text-align: right;\">\n",
       "      <th></th>\n",
       "      <th>reviews</th>\n",
       "    </tr>\n",
       "  </thead>\n",
       "  <tbody>\n",
       "    <tr>\n",
       "      <th>0</th>\n",
       "      <td>출판사 탓일 수도 있고 저자 탓일 수도 있지만 전작 출판한지 반년도 안되어서 확장판...</td>\n",
       "    </tr>\n",
       "    <tr>\n",
       "      <th>1</th>\n",
       "      <td>매대에서 훑으면 족하다 판매되지 않겠다는 의지조차 팔아치우는 마케팅의 자아포식성을 ...</td>\n",
       "    </tr>\n",
       "    <tr>\n",
       "      <th>2</th>\n",
       "      <td>않읽어도 되는책작가도 프로그래밍을 못배운것이 한이라고 적혀있다이책에서 누누히강조하는...</td>\n",
       "    </tr>\n",
       "    <tr>\n",
       "      <th>3</th>\n",
       "      <td>양질의 책을 읽으세요저급하고 단순한 문구에 홀리셨나요 과연 영양가가 있을까요 깊이있...</td>\n",
       "    </tr>\n",
       "    <tr>\n",
       "      <th>4</th>\n",
       "      <td>비판적 책읽기의 중요성 별5개는 그냥 유투브를 보라 뭐하러 독서를 하는디 ㅋㅋ</td>\n",
       "    </tr>\n",
       "    <tr>\n",
       "      <th>...</th>\n",
       "      <td>...</td>\n",
       "    </tr>\n",
       "    <tr>\n",
       "      <th>81814</th>\n",
       "      <td>근데 이사람 왜 파산했을까요</td>\n",
       "    </tr>\n",
       "    <tr>\n",
       "      <th>81815</th>\n",
       "      <td>대화에 지쳤을때 도움이됩니다</td>\n",
       "    </tr>\n",
       "    <tr>\n",
       "      <th>81816</th>\n",
       "      <td>바이블</td>\n",
       "    </tr>\n",
       "    <tr>\n",
       "      <th>81817</th>\n",
       "      <td>내용은 쉽지 않지만 1995년 책이 지금까지 읽힌다는건 현재에도 배울게 많다는 말이다</td>\n",
       "    </tr>\n",
       "    <tr>\n",
       "      <th>81818</th>\n",
       "      <td>1844년 영국 노동자 계급의 처지를 거주지역과 경쟁의 관점에서 분석한 숨겨진 걸작</td>\n",
       "    </tr>\n",
       "  </tbody>\n",
       "</table>\n",
       "<p>81819 rows × 1 columns</p>\n",
       "</div>"
      ],
      "text/plain": [
       "                                                 reviews\n",
       "0      출판사 탓일 수도 있고 저자 탓일 수도 있지만 전작 출판한지 반년도 안되어서 확장판...\n",
       "1      매대에서 훑으면 족하다 판매되지 않겠다는 의지조차 팔아치우는 마케팅의 자아포식성을 ...\n",
       "2      않읽어도 되는책작가도 프로그래밍을 못배운것이 한이라고 적혀있다이책에서 누누히강조하는...\n",
       "3      양질의 책을 읽으세요저급하고 단순한 문구에 홀리셨나요 과연 영양가가 있을까요 깊이있...\n",
       "4           비판적 책읽기의 중요성 별5개는 그냥 유투브를 보라 뭐하러 독서를 하는디 ㅋㅋ \n",
       "...                                                  ...\n",
       "81814                                   근데 이사람 왜 파산했을까요 \n",
       "81815                                   대화에 지쳤을때 도움이됩니다 \n",
       "81816                                               바이블 \n",
       "81817   내용은 쉽지 않지만 1995년 책이 지금까지 읽힌다는건 현재에도 배울게 많다는 말이다 \n",
       "81818    1844년 영국 노동자 계급의 처지를 거주지역과 경쟁의 관점에서 분석한 숨겨진 걸작 \n",
       "\n",
       "[81819 rows x 1 columns]"
      ]
     },
     "execution_count": 20,
     "metadata": {},
     "output_type": "execute_result"
    }
   ],
   "source": [
    "# 공백 여러번 -> 1번\n",
    "economy_review_df['reviews'] = [re.sub(r\"\\s+\", \" \", review) for review in economy_review_df['reviews']]\n",
    "economy_review_df"
   ]
  },
  {
   "cell_type": "code",
   "execution_count": 21,
   "id": "3bf06688",
   "metadata": {},
   "outputs": [
    {
     "data": {
      "text/plain": [
       "reviews     당신에게 선빵을 날리겠다 당신은 메신저 에 대해서 얼마나 모르고 있는것을 얼마나 ...\n",
       "Name: 1774, dtype: object"
      ]
     },
     "execution_count": 21,
     "metadata": {},
     "output_type": "execute_result"
    }
   ],
   "source": [
    "economy_review_df.loc[1774]"
   ]
  },
  {
   "cell_type": "code",
   "execution_count": 22,
   "id": "8b17a0dd",
   "metadata": {},
   "outputs": [],
   "source": [
    "# 한 글자 자음 제거\n",
    "economy_review_df['reviews'] = [re.sub(r\"([ㄱ-ㅎㅏ-ㅣ])+\", \" \", review) for review in economy_review_df['reviews']]"
   ]
  },
  {
   "cell_type": "code",
   "execution_count": 23,
   "id": "70e6129c",
   "metadata": {},
   "outputs": [
    {
     "data": {
      "text/plain": [
       "reviews    MB가 신봉하는 신자유주의에 대한 통렬한 비판에 감동했음 \n",
       "Name: 3935, dtype: object"
      ]
     },
     "execution_count": 23,
     "metadata": {},
     "output_type": "execute_result"
    }
   ],
   "source": [
    "economy_review_df.loc[3935]"
   ]
  },
  {
   "cell_type": "code",
   "execution_count": 24,
   "id": "52bc31bb",
   "metadata": {},
   "outputs": [
    {
     "data": {
      "text/plain": [
       "78998"
      ]
     },
     "execution_count": 24,
     "metadata": {},
     "output_type": "execute_result"
    }
   ],
   "source": [
    "economy_review_df['reviews'].nunique()"
   ]
  },
  {
   "cell_type": "code",
   "execution_count": 25,
   "id": "921423e1",
   "metadata": {},
   "outputs": [],
   "source": [
    "# 중복 제거\n",
    "economy_review_df.drop_duplicates(subset=['reviews'], inplace=True)"
   ]
  },
  {
   "cell_type": "code",
   "execution_count": 26,
   "id": "442cbb0d",
   "metadata": {},
   "outputs": [
    {
     "data": {
      "text/html": [
       "<div>\n",
       "<style scoped>\n",
       "    .dataframe tbody tr th:only-of-type {\n",
       "        vertical-align: middle;\n",
       "    }\n",
       "\n",
       "    .dataframe tbody tr th {\n",
       "        vertical-align: top;\n",
       "    }\n",
       "\n",
       "    .dataframe thead th {\n",
       "        text-align: right;\n",
       "    }\n",
       "</style>\n",
       "<table border=\"1\" class=\"dataframe\">\n",
       "  <thead>\n",
       "    <tr style=\"text-align: right;\">\n",
       "      <th></th>\n",
       "      <th>reviews</th>\n",
       "    </tr>\n",
       "  </thead>\n",
       "  <tbody>\n",
       "    <tr>\n",
       "      <th>0</th>\n",
       "      <td>출판사 탓일 수도 있고 저자 탓일 수도 있지만 전작 출판한지 반년도 안되어서 확장판...</td>\n",
       "    </tr>\n",
       "    <tr>\n",
       "      <th>1</th>\n",
       "      <td>매대에서 훑으면 족하다 판매되지 않겠다는 의지조차 팔아치우는 마케팅의 자아포식성을 ...</td>\n",
       "    </tr>\n",
       "    <tr>\n",
       "      <th>2</th>\n",
       "      <td>않읽어도 되는책작가도 프로그래밍을 못배운것이 한이라고 적혀있다이책에서 누누히강조하는...</td>\n",
       "    </tr>\n",
       "    <tr>\n",
       "      <th>3</th>\n",
       "      <td>양질의 책을 읽으세요저급하고 단순한 문구에 홀리셨나요 과연 영양가가 있을까요 깊이있...</td>\n",
       "    </tr>\n",
       "    <tr>\n",
       "      <th>4</th>\n",
       "      <td>비판적 책읽기의 중요성 별5개는 그냥 유투브를 보라 뭐하러 독서를 하는디</td>\n",
       "    </tr>\n",
       "    <tr>\n",
       "      <th>...</th>\n",
       "      <td>...</td>\n",
       "    </tr>\n",
       "    <tr>\n",
       "      <th>81813</th>\n",
       "      <td>출산률이 마음대로 될까 하는 생각이 드는 목차가 있네요</td>\n",
       "    </tr>\n",
       "    <tr>\n",
       "      <th>81814</th>\n",
       "      <td>근데 이사람 왜 파산했을까요</td>\n",
       "    </tr>\n",
       "    <tr>\n",
       "      <th>81815</th>\n",
       "      <td>대화에 지쳤을때 도움이됩니다</td>\n",
       "    </tr>\n",
       "    <tr>\n",
       "      <th>81817</th>\n",
       "      <td>내용은 쉽지 않지만 1995년 책이 지금까지 읽힌다는건 현재에도 배울게 많다는 말이다</td>\n",
       "    </tr>\n",
       "    <tr>\n",
       "      <th>81818</th>\n",
       "      <td>1844년 영국 노동자 계급의 처지를 거주지역과 경쟁의 관점에서 분석한 숨겨진 걸작</td>\n",
       "    </tr>\n",
       "  </tbody>\n",
       "</table>\n",
       "<p>78998 rows × 1 columns</p>\n",
       "</div>"
      ],
      "text/plain": [
       "                                                 reviews\n",
       "0      출판사 탓일 수도 있고 저자 탓일 수도 있지만 전작 출판한지 반년도 안되어서 확장판...\n",
       "1      매대에서 훑으면 족하다 판매되지 않겠다는 의지조차 팔아치우는 마케팅의 자아포식성을 ...\n",
       "2      않읽어도 되는책작가도 프로그래밍을 못배운것이 한이라고 적혀있다이책에서 누누히강조하는...\n",
       "3      양질의 책을 읽으세요저급하고 단순한 문구에 홀리셨나요 과연 영양가가 있을까요 깊이있...\n",
       "4            비판적 책읽기의 중요성 별5개는 그냥 유투브를 보라 뭐하러 독서를 하는디   \n",
       "...                                                  ...\n",
       "81813                    출산률이 마음대로 될까 하는 생각이 드는 목차가 있네요 \n",
       "81814                                   근데 이사람 왜 파산했을까요 \n",
       "81815                                   대화에 지쳤을때 도움이됩니다 \n",
       "81817   내용은 쉽지 않지만 1995년 책이 지금까지 읽힌다는건 현재에도 배울게 많다는 말이다 \n",
       "81818    1844년 영국 노동자 계급의 처지를 거주지역과 경쟁의 관점에서 분석한 숨겨진 걸작 \n",
       "\n",
       "[78998 rows x 1 columns]"
      ]
     },
     "execution_count": 26,
     "metadata": {},
     "output_type": "execute_result"
    }
   ],
   "source": [
    "economy_review_df"
   ]
  },
  {
   "cell_type": "code",
   "execution_count": 27,
   "id": "14510ecf",
   "metadata": {},
   "outputs": [
    {
     "name": "stderr",
     "output_type": "stream",
     "text": [
      "100%|████████████████████████████████████████████████████████████████| 78998/78998 [03:34<00:00, 367.76it/s]\n"
     ]
    }
   ],
   "source": [
    "okt = Okt()\n",
    "stopwords = ['와','에','으로','도','를','과','는','의','가','이','은','이','있','하','것','들','그','되','수','이','보','않','없','나','사람','주','아니','등','같','우리','때','년','가','한','지','대하','오','말','일','그렇','위하','때문','그것','두','말하','알','그러나','받','못하','일','그런','또','문제','더','사회','많','그리고','좋','크','따르','중','나오','가지','씨','시키','만들','지금','생각하','그러','속','하나','집','살','모르','적','월','데','자신','안','어떤','내','경우','명','생각','시간','그녀','다시','이런','앞','보이','번','나','다른','어떻','여자','개','전','들','사실','이렇','점','싶','말','정도','좀','원','잘','통하','소리','놓']\n",
    "economy_okt_review = []\n",
    "    \n",
    "for review in tqdm(economy_review_df['reviews']):\n",
    "    tokenized_review = okt.morphs(review, stem=True) # 토큰화\n",
    "    stopwords_removed_review = [word for word in tokenized_review if not word in stopwords] # 불용어 제거\n",
    "    economy_okt_review.append(stopwords_removed_review)"
   ]
  },
  {
   "cell_type": "code",
   "execution_count": 28,
   "id": "df4b6d11",
   "metadata": {
    "scrolled": true
   },
   "outputs": [
    {
     "data": {
      "text/plain": [
       "78998"
      ]
     },
     "execution_count": 28,
     "metadata": {},
     "output_type": "execute_result"
    }
   ],
   "source": [
    "len(economy_okt_review)"
   ]
  },
  {
   "cell_type": "code",
   "execution_count": 29,
   "id": "a92e9f0b",
   "metadata": {},
   "outputs": [
    {
     "ename": "NameError",
     "evalue": "name 'Tokenizer' is not defined",
     "output_type": "error",
     "traceback": [
      "\u001b[0;31m---------------------------------------------------------------------------\u001b[0m",
      "\u001b[0;31mNameError\u001b[0m                                 Traceback (most recent call last)",
      "Cell \u001b[0;32mIn[29], line 1\u001b[0m\n\u001b[0;32m----> 1\u001b[0m tokenizer \u001b[38;5;241m=\u001b[39m \u001b[43mTokenizer\u001b[49m()\n\u001b[1;32m      2\u001b[0m tokenizer\u001b[38;5;241m.\u001b[39mfit_on_texts(economy_okt_review)\n",
      "\u001b[0;31mNameError\u001b[0m: name 'Tokenizer' is not defined"
     ]
    }
   ],
   "source": [
    "tokenizer = Tokenizer()\n",
    "tokenizer.fit_on_texts(economy_okt_review)"
   ]
  },
  {
   "cell_type": "code",
   "execution_count": null,
   "id": "b3be9f1a",
   "metadata": {},
   "outputs": [],
   "source": [
    "print(tokenizer.word_index)"
   ]
  },
  {
   "cell_type": "code",
   "execution_count": null,
   "id": "30b0181e",
   "metadata": {
    "scrolled": true
   },
   "outputs": [],
   "source": [
    "tokenizer.word_counts.items()"
   ]
  },
  {
   "cell_type": "code",
   "execution_count": null,
   "id": "8737d9af",
   "metadata": {},
   "outputs": [],
   "source": [
    "threshold = 3\n",
    "total_cnt = len(tokenizer.word_index) # 단어의 수\n",
    "rare_cnt = 0 # 등장 빈도수가 threshold보다 작은 단어의 개수를 카운트\n",
    "total_freq = 0 # 훈련 데이터의 전체 단어 빈도수 총 합\n",
    "rare_freq = 0 # 등장 빈도수가 threshold보다 작은 단어의 등장 빈도수의 총 합\n",
    "\n",
    "# 단어와 빈도수의 쌍(pair)을 key와 value로 받는다.\n",
    "for key, value in tokenizer.word_counts.items():\n",
    "    total_freq = total_freq + value\n",
    "\n",
    "    # 단어의 등장 빈도수가 threshold보다 작으면\n",
    "    if(value < threshold):\n",
    "        rare_cnt = rare_cnt + 1\n",
    "        rare_freq = rare_freq + value\n",
    "\n",
    "print('단어 집합(vocabulary)의 크기 :',total_cnt)\n",
    "print('등장 빈도가 %s번 이하인 희귀 단어의 수: %s'%(threshold - 1, rare_cnt))\n",
    "print(\"단어 집합에서 희귀 단어의 비율:\", (rare_cnt / total_cnt)*100)\n",
    "print(\"전체 등장 빈도에서 희귀 단어 등장 빈도 비율:\", (rare_freq / total_freq)*100)"
   ]
  },
  {
   "cell_type": "code",
   "execution_count": null,
   "id": "a2010e0d",
   "metadata": {},
   "outputs": [],
   "source": [
    "# 전체 단어 개수 중 빈도수 2이하인 단어는 제거.\n",
    "# 0번 패딩 토큰을 고려하여 + 1\n",
    "vocab_size = total_cnt - rare_cnt + 1\n",
    "print('단어 집합의 크기 :',vocab_size)"
   ]
  },
  {
   "cell_type": "code",
   "execution_count": null,
   "id": "9f14bbf2",
   "metadata": {},
   "outputs": [],
   "source": [
    "# 텍스트 시퀀스를 정수 시퀀스로 변환\n",
    "tokenizer = Tokenizer(vocab_size) \n",
    "tokenizer.fit_on_texts(economy_okt_review)\n",
    "economy_tok_review = tokenizer.texts_to_sequences(economy_okt_review)"
   ]
  },
  {
   "cell_type": "code",
   "execution_count": null,
   "id": "45cf788b",
   "metadata": {},
   "outputs": [],
   "source": [
    "economy_tok_review"
   ]
  },
  {
   "cell_type": "code",
   "execution_count": null,
   "id": "720db74b",
   "metadata": {},
   "outputs": [],
   "source": [
    "drop_review = [index for index, review in enumerate(economy_tok_review) if len(review) < 1]\n",
    "drop_review"
   ]
  },
  {
   "cell_type": "code",
   "execution_count": null,
   "id": "9cec2c7b",
   "metadata": {},
   "outputs": [],
   "source": [
    "print('리뷰의 최대 길이 :',max(len(review) for review in economy_tok_review))\n",
    "print('리뷰의 평균 길이 :',sum(map(len, economy_tok_review))/len(economy_tok_review))"
   ]
  },
  {
   "cell_type": "code",
   "execution_count": null,
   "id": "88af0918",
   "metadata": {},
   "outputs": [],
   "source": [
    "# 빈 샘플들을 제거\n",
    "drop_economy_tok_review = np.delete(economy_tok_review, drop_review, axis=0)\n",
    "drop_economy_tok_review"
   ]
  },
  {
   "cell_type": "code",
   "execution_count": null,
   "id": "1bd01199",
   "metadata": {},
   "outputs": [],
   "source": []
  },
  {
   "cell_type": "code",
   "execution_count": null,
   "id": "60a323b6",
   "metadata": {},
   "outputs": [],
   "source": []
  },
  {
   "cell_type": "code",
   "execution_count": null,
   "id": "49ee943f",
   "metadata": {},
   "outputs": [],
   "source": []
  },
  {
   "cell_type": "code",
   "execution_count": null,
   "id": "c2c67926",
   "metadata": {},
   "outputs": [],
   "source": []
  },
  {
   "cell_type": "code",
   "execution_count": null,
   "id": "2b23eb82",
   "metadata": {},
   "outputs": [],
   "source": []
  },
  {
   "cell_type": "code",
   "execution_count": null,
   "id": "053df570",
   "metadata": {},
   "outputs": [],
   "source": []
  },
  {
   "cell_type": "code",
   "execution_count": null,
   "id": "9a7e3749",
   "metadata": {},
   "outputs": [],
   "source": []
  },
  {
   "cell_type": "code",
   "execution_count": null,
   "id": "bf4ed0ad",
   "metadata": {},
   "outputs": [],
   "source": []
  },
  {
   "cell_type": "code",
   "execution_count": null,
   "id": "18f341eb",
   "metadata": {},
   "outputs": [],
   "source": []
  },
  {
   "cell_type": "code",
   "execution_count": null,
   "id": "7910291e",
   "metadata": {},
   "outputs": [],
   "source": []
  },
  {
   "cell_type": "code",
   "execution_count": null,
   "id": "5832dd71",
   "metadata": {},
   "outputs": [],
   "source": []
  },
  {
   "cell_type": "code",
   "execution_count": null,
   "id": "7f8166d9",
   "metadata": {},
   "outputs": [],
   "source": []
  },
  {
   "cell_type": "code",
   "execution_count": null,
   "id": "a8b0da49",
   "metadata": {},
   "outputs": [],
   "source": []
  }
 ],
 "metadata": {
  "kernelspec": {
   "display_name": "Python 3 (ipykernel)",
   "language": "python",
   "name": "python3"
  },
  "language_info": {
   "codemirror_mode": {
    "name": "ipython",
    "version": 3
   },
   "file_extension": ".py",
   "mimetype": "text/x-python",
   "name": "python",
   "nbconvert_exporter": "python",
   "pygments_lexer": "ipython3",
   "version": "3.10.10"
  }
 },
 "nbformat": 4,
 "nbformat_minor": 5
}

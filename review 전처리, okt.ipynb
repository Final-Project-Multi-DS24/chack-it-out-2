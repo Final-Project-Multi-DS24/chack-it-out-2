{
 "cells": [
  {
   "cell_type": "code",
   "execution_count": 117,
   "id": "96da92af",
   "metadata": {},
   "outputs": [],
   "source": [
    "import pickle\n",
    "import pandas as pd\n",
    "import numpy as np\n",
    "import matplotlib.pyplot as plt\n",
    "import re\n",
    "import nltk\n",
    "from konlpy.tag import Okt\n",
    "from tqdm import tqdm\n",
    "\n",
    "pd.options.display.float_format = '{:.0f}'.format\n",
    "#pd.reset_option('display.float_format')\n",
    "self_review = pd.read_csv('/Users/wonsik/GitHub/chack-it-out-2/data/self_review.csv', lineterminator='\\n', index_col=0)\n",
    "economy_review = pd.read_csv('/Users/wonsik/GitHub/chack-it-out-2/data/economy_review.csv', lineterminator='\\n', index_col=0)"
   ]
  },
  {
   "cell_type": "code",
   "execution_count": 118,
   "id": "d9565d46",
   "metadata": {},
   "outputs": [],
   "source": [
    "def review_textmining(dataframe):\n",
    "    dataframe = dataframe.rename(columns={'0':'isbn13'})\n",
    "    dataframe = dataframe.rename(columns={'1':'score'})\n",
    "    dataframe = dataframe.rename(columns={'2':'reviews'})\n",
    "    dataframe = dataframe.rename(columns={'3':'date'})\n",
    "    dataframe = dataframe.rename(columns={'3\\r':'date'})\n",
    "    dataframe = dataframe.dropna(subset=['isbn13'])         \n",
    "    \n",
    "    # 중복 제거\n",
    "    dataframe.drop_duplicates(subset=['reviews'], inplace=True)\n",
    "    # $2022-10 형식 제거\n",
    "    dataframe['reviews'] = [re.sub(r\"[$]{1,4}[0-9]{4}-[0-9]{1,2}\", \" \", review) for review in dataframe['reviews']]\n",
    "    # URL 제거, http로 시작되는 url\n",
    "    dataframe['reviews'] = [re.sub(r\"http[s]?://(?:[a-zA-Z]|[0-9]|[$-_@.&+]|[!*\\(\\),]|(?:%[0-9a-fA-F][0-9a-fA-F]))+\", \" \", review) for review in dataframe['reviews']]\n",
    "    # 한글 제외하고 제거\n",
    "    dataframe['reviews'] = [re.sub(r\"[^ㄱ-ㅎ가-힣]\", \" \", review) for review in dataframe['reviews']]\n",
    "    # 공백 여러번 -> 1번\n",
    "    dataframe['reviews'] = [re.sub(r\"\\s+\", \" \", review) for review in dataframe['reviews']]\n",
    "    # 한 글자 자음 제거\n",
    "    dataframe['reviews'] = [re.sub(r\"([ㄱ-ㅎㅏ-ㅣ])+\", \" \", review) for review in dataframe['reviews']]\n",
    "    # 중복 제거\n",
    "    dataframe.drop_duplicates(subset=['reviews'], inplace=True)\n",
    "    \n",
    "    return dataframe"
   ]
  },
  {
   "cell_type": "code",
   "execution_count": 119,
   "id": "6c2207e5",
   "metadata": {},
   "outputs": [],
   "source": [
    "def review_concat(df1, df2):\n",
    "    df1 = review_textmining(df1) \n",
    "    df2 = review_textmining(df2) \n",
    "    total_review = pd.concat([df1, df2], axis = 0, sort=False)\n",
    "    total_review.drop_duplicates(subset=['reviews'], inplace=True)\n",
    "    total_review.reset_index(drop=True, inplace=True)\n",
    "    \n",
    "    return total_review"
   ]
  },
  {
   "cell_type": "code",
   "execution_count": 120,
   "id": "a0d0dc64",
   "metadata": {},
   "outputs": [
    {
     "data": {
      "text/html": [
       "<div>\n",
       "<style scoped>\n",
       "    .dataframe tbody tr th:only-of-type {\n",
       "        vertical-align: middle;\n",
       "    }\n",
       "\n",
       "    .dataframe tbody tr th {\n",
       "        vertical-align: top;\n",
       "    }\n",
       "\n",
       "    .dataframe thead th {\n",
       "        text-align: right;\n",
       "    }\n",
       "</style>\n",
       "<table border=\"1\" class=\"dataframe\">\n",
       "  <thead>\n",
       "    <tr style=\"text-align: right;\">\n",
       "      <th></th>\n",
       "      <th>isbn13</th>\n",
       "      <th>score</th>\n",
       "      <th>reviews</th>\n",
       "      <th>date</th>\n",
       "    </tr>\n",
       "  </thead>\n",
       "  <tbody>\n",
       "    <tr>\n",
       "      <th>0</th>\n",
       "      <td>9791168473690</td>\n",
       "      <td>10</td>\n",
       "      <td>선생님 항상 존경합니다 저도 한 때는 만원 들고 가출한 적이 있으나 선생님의 뼈아픈...</td>\n",
       "      <td>2023-01-20</td>\n",
       "    </tr>\n",
       "    <tr>\n",
       "      <th>1</th>\n",
       "      <td>9791168473690</td>\n",
       "      <td>2</td>\n",
       "      <td>와 최악이다 이게 책인가 반품 신청함 말도 너무 험하고 몇 챕터 읽었는데 기분만 상했음</td>\n",
       "      <td>2023-03-04</td>\n",
       "    </tr>\n",
       "    <tr>\n",
       "      <th>2</th>\n",
       "      <td>9791168473690</td>\n",
       "      <td>4</td>\n",
       "      <td>이전에 비매품으로 나왔던 책도 소장중입니다만 수정본이라도 내용상 크게 변한 건 없군...</td>\n",
       "      <td>2023-03-05</td>\n",
       "    </tr>\n",
       "    <tr>\n",
       "      <th>3</th>\n",
       "      <td>9791168473690</td>\n",
       "      <td>2</td>\n",
       "      <td>가르침 이란 제목에서 알아봤어야 했는데</td>\n",
       "      <td>2023-03-03</td>\n",
       "    </tr>\n",
       "    <tr>\n",
       "      <th>4</th>\n",
       "      <td>9791168473690</td>\n",
       "      <td>10</td>\n",
       "      <td>지금 현재 흙수저에서 부자가 된 사람들의 대다수는 세이노 선생님이 멘토셨다 약 년전...</td>\n",
       "      <td>2023-01-22</td>\n",
       "    </tr>\n",
       "    <tr>\n",
       "      <th>...</th>\n",
       "      <td>...</td>\n",
       "      <td>...</td>\n",
       "      <td>...</td>\n",
       "      <td>...</td>\n",
       "    </tr>\n",
       "    <tr>\n",
       "      <th>136211</th>\n",
       "      <td>9788997323524</td>\n",
       "      <td>10</td>\n",
       "      <td>유통업체에 푸드코트 납품 입점하실 분들은 이 자료 이용하셔서 발송하시고 매장관리자 ...</td>\n",
       "      <td>2012-08-23\\r</td>\n",
       "    </tr>\n",
       "    <tr>\n",
       "      <th>136212</th>\n",
       "      <td>9788997323418</td>\n",
       "      <td>8</td>\n",
       "      <td>유통쪽에서 일하는지라 본사말고 개인음식점들 컨텍할 자료가 필요했는데 괜찮네요 정보가...</td>\n",
       "      <td>2012-04-25\\r</td>\n",
       "    </tr>\n",
       "    <tr>\n",
       "      <th>136213</th>\n",
       "      <td>9788960237872</td>\n",
       "      <td>8</td>\n",
       "      <td>출산률이 마음대로 될까 하는 생각이 드는 목차가 있네요</td>\n",
       "      <td>2012-05-17\\r</td>\n",
       "    </tr>\n",
       "    <tr>\n",
       "      <th>136214</th>\n",
       "      <td>9788982732362</td>\n",
       "      <td>10</td>\n",
       "      <td>근데 이사람 왜 파산했을까요</td>\n",
       "      <td>2016-10-01\\r</td>\n",
       "    </tr>\n",
       "    <tr>\n",
       "      <th>136215</th>\n",
       "      <td>9788985989169</td>\n",
       "      <td>8</td>\n",
       "      <td>내용은 쉽지 않지만 년 책이 지금까지 읽힌다는건 현재에도 배울게 많다는 말이다</td>\n",
       "      <td>2021-02-27\\r</td>\n",
       "    </tr>\n",
       "  </tbody>\n",
       "</table>\n",
       "<p>136216 rows × 4 columns</p>\n",
       "</div>"
      ],
      "text/plain": [
       "              isbn13  score  \\\n",
       "0      9791168473690     10   \n",
       "1      9791168473690      2   \n",
       "2      9791168473690      4   \n",
       "3      9791168473690      2   \n",
       "4      9791168473690     10   \n",
       "...              ...    ...   \n",
       "136211 9788997323524     10   \n",
       "136212 9788997323418      8   \n",
       "136213 9788960237872      8   \n",
       "136214 9788982732362     10   \n",
       "136215 9788985989169      8   \n",
       "\n",
       "                                                  reviews          date  \n",
       "0       선생님 항상 존경합니다 저도 한 때는 만원 들고 가출한 적이 있으나 선생님의 뼈아픈...    2023-01-20  \n",
       "1       와 최악이다 이게 책인가 반품 신청함 말도 너무 험하고 몇 챕터 읽었는데 기분만 상했음     2023-03-04  \n",
       "2       이전에 비매품으로 나왔던 책도 소장중입니다만 수정본이라도 내용상 크게 변한 건 없군...    2023-03-05  \n",
       "3                                  가르침 이란 제목에서 알아봤어야 했는데     2023-03-03  \n",
       "4       지금 현재 흙수저에서 부자가 된 사람들의 대다수는 세이노 선생님이 멘토셨다 약 년전...    2023-01-22  \n",
       "...                                                   ...           ...  \n",
       "136211  유통업체에 푸드코트 납품 입점하실 분들은 이 자료 이용하셔서 발송하시고 매장관리자 ...  2012-08-23\\r  \n",
       "136212  유통쪽에서 일하는지라 본사말고 개인음식점들 컨텍할 자료가 필요했는데 괜찮네요 정보가...  2012-04-25\\r  \n",
       "136213                    출산률이 마음대로 될까 하는 생각이 드는 목차가 있네요   2012-05-17\\r  \n",
       "136214                                   근데 이사람 왜 파산했을까요   2016-10-01\\r  \n",
       "136215       내용은 쉽지 않지만 년 책이 지금까지 읽힌다는건 현재에도 배울게 많다는 말이다   2021-02-27\\r  \n",
       "\n",
       "[136216 rows x 4 columns]"
      ]
     },
     "execution_count": 120,
     "metadata": {},
     "output_type": "execute_result"
    }
   ],
   "source": [
    "total_review = review_concat(self_review, economy_review)\n",
    "total_review"
   ]
  },
  {
   "cell_type": "code",
   "execution_count": 434,
   "id": "5f6b8b31",
   "metadata": {},
   "outputs": [],
   "source": [
    "#total_review.to_csv('total_review.csv', encoding='utf-8-sig')"
   ]
  },
  {
   "cell_type": "code",
   "execution_count": 121,
   "id": "e4b71085",
   "metadata": {},
   "outputs": [
    {
     "name": "stdout",
     "output_type": "stream",
     "text": [
      "<class 'pandas.core.frame.DataFrame'>\n",
      "RangeIndex: 136216 entries, 0 to 136215\n",
      "Data columns (total 4 columns):\n",
      " #   Column   Non-Null Count   Dtype  \n",
      "---  ------   --------------   -----  \n",
      " 0   isbn13   136216 non-null  float64\n",
      " 1   score    136216 non-null  int64  \n",
      " 2   reviews  136216 non-null  object \n",
      " 3   date     136216 non-null  object \n",
      "dtypes: float64(1), int64(1), object(2)\n",
      "memory usage: 4.2+ MB\n"
     ]
    }
   ],
   "source": [
    "total_review.info()"
   ]
  },
  {
   "cell_type": "code",
   "execution_count": 34,
   "id": "0e9a0e11",
   "metadata": {},
   "outputs": [
    {
     "name": "stderr",
     "output_type": "stream",
     "text": [
      "100%|██████████████████████████████████| 136216/136216 [13:40<00:00, 166.04it/s]\n"
     ]
    }
   ],
   "source": [
    "# 명사\n",
    "okt = Okt()\n",
    "review_noun_okt = []\n",
    "stopwords = pd.read_csv(\"https://raw.githubusercontent.com/yoonkt200/FastCampusDataset/master/korean_stopwords.txt\").values.flatten()\n",
    "\n",
    "for review in tqdm(total_review['reviews']):\n",
    "    Noun = []\n",
    "    Noun = {term[0] for term in okt.pos(review, stem=True, norm=True) if term[1] in [\"Noun\"]} # 토큰화\n",
    "    Noun = list(Noun)\n",
    "    Noun = [x for x in Noun if x not in stopwords]  # 불용어 제거\n",
    "    Noun = [x for x in Noun if len(x) > 1]  # 한글자 키워드 제거\n",
    "    if Noun : \n",
    "        review_noun_okt.append(Noun) #빈 list는 추가X"
   ]
  },
  {
   "cell_type": "code",
   "execution_count": 48,
   "id": "9bfaed4d",
   "metadata": {},
   "outputs": [],
   "source": [
    "# 배열 생성\n",
    "#review_noun_okt\n",
    "\n",
    "# 배열 저장\n",
    "#with open('review_noun_okt.pkl', 'wb') as f:\n",
    "#    pickle.dump(review_okt, f)\n",
    "\n",
    "# 다른 노트북에서 배열 불러오기\n",
    "with open('review_noun_okt.pkl', 'rb') as f:\n",
    "    review_noun_okt = pickle.load(f)\n",
    "    "
   ]
  },
  {
   "cell_type": "code",
   "execution_count": 122,
   "id": "c0ffff07",
   "metadata": {},
   "outputs": [
    {
     "data": {
      "text/plain": [
       "[<matplotlib.lines.Line2D at 0x2c546e950>]"
      ]
     },
     "execution_count": 122,
     "metadata": {},
     "output_type": "execute_result"
    },
    {
     "data": {
      "image/png": "[encoded data removed]",
      "text/plain": [
       "<Figure size 640x480 with 1 Axes>"
      ]
     },
     "metadata": {},
     "output_type": "display_data"
    }
   ],
   "source": [
    "string_len = [len(x) for x in review_okt]\n",
    "plt.plot(string_len, alpha=0.5, color='red')"
   ]
  },
  {
   "cell_type": "code",
   "execution_count": 137,
   "id": "f16fd99d",
   "metadata": {},
   "outputs": [],
   "source": [
    "string_len = [len(x) for x in review_okt]\n",
    "del_review = [idx for idx, str_len in enumerate(string_len) if str_len > 100]\n",
    "total_review = total_review[~total_review.index.isin(del_review)]"
   ]
  },
  {
   "cell_type": "code",
   "execution_count": 138,
   "id": "3df01e79",
   "metadata": {},
   "outputs": [
    {
     "name": "stderr",
     "output_type": "stream",
     "text": [
      "/var/folders/yt/t0fd6yq13pv4w1sq7rhww2040000gn/T/ipykernel_21045/3374142891.py:2: SettingWithCopyWarning: \n",
      "A value is trying to be set on a copy of a slice from a DataFrame.\n",
      "Try using .loc[row_indexer,col_indexer] = value instead\n",
      "\n",
      "See the caveats in the documentation: https://pandas.pydata.org/pandas-docs/stable/user_guide/indexing.html#returning-a-view-versus-a-copy\n",
      "  total_review['label'] = pd.cut(total_review['score'],\n"
     ]
    }
   ],
   "source": [
    "# 라벨링\n",
    "total_review['label'] = pd.cut(total_review['score'],\n",
    "    bins = [0, 8, 10],\n",
    "    labels = [0, 1])"
   ]
  },
  {
   "cell_type": "code",
   "execution_count": 145,
   "id": "14028916",
   "metadata": {},
   "outputs": [
    {
     "data": {
      "text/html": [
       "<div>\n",
       "<style scoped>\n",
       "    .dataframe tbody tr th:only-of-type {\n",
       "        vertical-align: middle;\n",
       "    }\n",
       "\n",
       "    .dataframe tbody tr th {\n",
       "        vertical-align: top;\n",
       "    }\n",
       "\n",
       "    .dataframe thead th {\n",
       "        text-align: right;\n",
       "    }\n",
       "</style>\n",
       "<table border=\"1\" class=\"dataframe\">\n",
       "  <thead>\n",
       "    <tr style=\"text-align: right;\">\n",
       "      <th></th>\n",
       "      <th>isbn13</th>\n",
       "      <th>score</th>\n",
       "      <th>reviews</th>\n",
       "      <th>date</th>\n",
       "      <th>label</th>\n",
       "    </tr>\n",
       "  </thead>\n",
       "  <tbody>\n",
       "    <tr>\n",
       "      <th>0</th>\n",
       "      <td>9791168473690</td>\n",
       "      <td>10</td>\n",
       "      <td>선생님 항상 존경합니다 저도 한 때는 만원 들고 가출한 적이 있으나 선생님의 뼈아픈...</td>\n",
       "      <td>2023-01-20</td>\n",
       "      <td>1</td>\n",
       "    </tr>\n",
       "    <tr>\n",
       "      <th>1</th>\n",
       "      <td>9791168473690</td>\n",
       "      <td>2</td>\n",
       "      <td>와 최악이다 이게 책인가 반품 신청함 말도 너무 험하고 몇 챕터 읽었는데 기분만 상했음</td>\n",
       "      <td>2023-03-04</td>\n",
       "      <td>0</td>\n",
       "    </tr>\n",
       "    <tr>\n",
       "      <th>2</th>\n",
       "      <td>9791168473690</td>\n",
       "      <td>4</td>\n",
       "      <td>이전에 비매품으로 나왔던 책도 소장중입니다만 수정본이라도 내용상 크게 변한 건 없군...</td>\n",
       "      <td>2023-03-05</td>\n",
       "      <td>0</td>\n",
       "    </tr>\n",
       "    <tr>\n",
       "      <th>3</th>\n",
       "      <td>9791168473690</td>\n",
       "      <td>2</td>\n",
       "      <td>가르침 이란 제목에서 알아봤어야 했는데</td>\n",
       "      <td>2023-03-03</td>\n",
       "      <td>0</td>\n",
       "    </tr>\n",
       "    <tr>\n",
       "      <th>4</th>\n",
       "      <td>9791168473690</td>\n",
       "      <td>10</td>\n",
       "      <td>지금 현재 흙수저에서 부자가 된 사람들의 대다수는 세이노 선생님이 멘토셨다 약 년전...</td>\n",
       "      <td>2023-01-22</td>\n",
       "      <td>1</td>\n",
       "    </tr>\n",
       "    <tr>\n",
       "      <th>...</th>\n",
       "      <td>...</td>\n",
       "      <td>...</td>\n",
       "      <td>...</td>\n",
       "      <td>...</td>\n",
       "      <td>...</td>\n",
       "    </tr>\n",
       "    <tr>\n",
       "      <th>136211</th>\n",
       "      <td>9788997323524</td>\n",
       "      <td>10</td>\n",
       "      <td>유통업체에 푸드코트 납품 입점하실 분들은 이 자료 이용하셔서 발송하시고 매장관리자 ...</td>\n",
       "      <td>2012-08-23\\r</td>\n",
       "      <td>1</td>\n",
       "    </tr>\n",
       "    <tr>\n",
       "      <th>136212</th>\n",
       "      <td>9788997323418</td>\n",
       "      <td>8</td>\n",
       "      <td>유통쪽에서 일하는지라 본사말고 개인음식점들 컨텍할 자료가 필요했는데 괜찮네요 정보가...</td>\n",
       "      <td>2012-04-25\\r</td>\n",
       "      <td>0</td>\n",
       "    </tr>\n",
       "    <tr>\n",
       "      <th>136213</th>\n",
       "      <td>9788960237872</td>\n",
       "      <td>8</td>\n",
       "      <td>출산률이 마음대로 될까 하는 생각이 드는 목차가 있네요</td>\n",
       "      <td>2012-05-17\\r</td>\n",
       "      <td>0</td>\n",
       "    </tr>\n",
       "    <tr>\n",
       "      <th>136214</th>\n",
       "      <td>9788982732362</td>\n",
       "      <td>10</td>\n",
       "      <td>근데 이사람 왜 파산했을까요</td>\n",
       "      <td>2016-10-01\\r</td>\n",
       "      <td>1</td>\n",
       "    </tr>\n",
       "    <tr>\n",
       "      <th>136215</th>\n",
       "      <td>9788985989169</td>\n",
       "      <td>8</td>\n",
       "      <td>내용은 쉽지 않지만 년 책이 지금까지 읽힌다는건 현재에도 배울게 많다는 말이다</td>\n",
       "      <td>2021-02-27\\r</td>\n",
       "      <td>0</td>\n",
       "    </tr>\n",
       "  </tbody>\n",
       "</table>\n",
       "<p>136202 rows × 5 columns</p>\n",
       "</div>"
      ],
      "text/plain": [
       "              isbn13  score  \\\n",
       "0      9791168473690     10   \n",
       "1      9791168473690      2   \n",
       "2      9791168473690      4   \n",
       "3      9791168473690      2   \n",
       "4      9791168473690     10   \n",
       "...              ...    ...   \n",
       "136211 9788997323524     10   \n",
       "136212 9788997323418      8   \n",
       "136213 9788960237872      8   \n",
       "136214 9788982732362     10   \n",
       "136215 9788985989169      8   \n",
       "\n",
       "                                                  reviews          date label  \n",
       "0       선생님 항상 존경합니다 저도 한 때는 만원 들고 가출한 적이 있으나 선생님의 뼈아픈...    2023-01-20     1  \n",
       "1       와 최악이다 이게 책인가 반품 신청함 말도 너무 험하고 몇 챕터 읽었는데 기분만 상했음     2023-03-04     0  \n",
       "2       이전에 비매품으로 나왔던 책도 소장중입니다만 수정본이라도 내용상 크게 변한 건 없군...    2023-03-05     0  \n",
       "3                                  가르침 이란 제목에서 알아봤어야 했는데     2023-03-03     0  \n",
       "4       지금 현재 흙수저에서 부자가 된 사람들의 대다수는 세이노 선생님이 멘토셨다 약 년전...    2023-01-22     1  \n",
       "...                                                   ...           ...   ...  \n",
       "136211  유통업체에 푸드코트 납품 입점하실 분들은 이 자료 이용하셔서 발송하시고 매장관리자 ...  2012-08-23\\r     1  \n",
       "136212  유통쪽에서 일하는지라 본사말고 개인음식점들 컨텍할 자료가 필요했는데 괜찮네요 정보가...  2012-04-25\\r     0  \n",
       "136213                    출산률이 마음대로 될까 하는 생각이 드는 목차가 있네요   2012-05-17\\r     0  \n",
       "136214                                   근데 이사람 왜 파산했을까요   2016-10-01\\r     1  \n",
       "136215       내용은 쉽지 않지만 년 책이 지금까지 읽힌다는건 현재에도 배울게 많다는 말이다   2021-02-27\\r     0  \n",
       "\n",
       "[136202 rows x 5 columns]"
      ]
     },
     "execution_count": 145,
     "metadata": {},
     "output_type": "execute_result"
    }
   ],
   "source": [
    "total_review"
   ]
  },
  {
   "cell_type": "code",
   "execution_count": 147,
   "id": "de3c0de9",
   "metadata": {},
   "outputs": [
    {
     "name": "stdout",
     "output_type": "stream",
     "text": [
      "<class 'pandas.core.frame.DataFrame'>\n",
      "Index: 136202 entries, 0 to 136215\n",
      "Data columns (total 5 columns):\n",
      " #   Column   Non-Null Count   Dtype   \n",
      "---  ------   --------------   -----   \n",
      " 0   isbn13   136202 non-null  float64 \n",
      " 1   score    136202 non-null  int64   \n",
      " 2   reviews  136202 non-null  object  \n",
      " 3   date     136202 non-null  object  \n",
      " 4   label    136202 non-null  category\n",
      "dtypes: category(1), float64(1), int64(1), object(2)\n",
      "memory usage: 5.3+ MB\n"
     ]
    }
   ],
   "source": [
    "total_review.info()"
   ]
  }
 ],
 "metadata": {
  "kernelspec": {
   "display_name": "Python 3 (ipykernel)",
   "language": "python",
   "name": "python3"
  },
  "language_info": {
   "codemirror_mode": {
    "name": "ipython",
    "version": 3
   },
   "file_extension": ".py",
   "mimetype": "text/x-python",
   "name": "python",
   "nbconvert_exporter": "python",
   "pygments_lexer": "ipython3",
   "version": "3.10.10"
  }
 },
 "nbformat": 4,
 "nbformat_minor": 5
}

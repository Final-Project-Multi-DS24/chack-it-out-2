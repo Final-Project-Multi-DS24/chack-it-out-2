{
 "cells": [
  {
   "cell_type": "code",
   "execution_count": 132,
   "id": "605cea8d",
   "metadata": {},
   "outputs": [],
   "source": [
    "from selenium import webdriver\n",
    "from selenium.webdriver.common.by import By\n",
    "from selenium.webdriver.chrome.service import Service\n",
    "from webdriver_manager.chrome import ChromeDriverManager\n",
    "from bs4 import BeautifulSoup\n",
    "import time\n",
    "import datetime\n",
    "import requests\n",
    "import pandas as pd"
   ]
  },
  {
   "cell_type": "code",
   "execution_count": 91,
   "id": "a88a58d8",
   "metadata": {},
   "outputs": [],
   "source": [
    "def doScrollDown(whileSeconds):\n",
    "    start = datetime.datetime.now()\n",
    "    end = start + datetime.timedelta(seconds=whileSeconds)\n",
    "    while True:\n",
    "        driver.execute_script('window.scrollTo(0, document.body.scrollHeight);')\n",
    "        \n",
    "        if datetime.datetime.now() > end:\n",
    "            break"
   ]
  },
  {
   "cell_type": "code",
   "execution_count": 316,
   "id": "901f8b5c",
   "metadata": {},
   "outputs": [],
   "source": [
    "driver = webdriver.Chrome(service= Service(ChromeDriverManager().install()))"
   ]
  },
  {
   "cell_type": "code",
   "execution_count": 318,
   "id": "628fd5d8",
   "metadata": {},
   "outputs": [],
   "source": [
    "driver.get(\"https://www.aladin.co.kr/shop/wproduct.aspx?ItemId=317300995\")"
   ]
  },
  {
   "cell_type": "code",
   "execution_count": 262,
   "id": "afbdb4f0",
   "metadata": {},
   "outputs": [],
   "source": [
    "book_explain=driver.find_element(\n",
    "        By.CSS_SELECTOR,\n",
    "        '#scrollSpyProdInfo > div.product_detail_area.book_intro > div.intro_bottom'\n",
    "    )"
   ]
  },
  {
   "cell_type": "code",
   "execution_count": 263,
   "id": "2d0ac43c",
   "metadata": {},
   "outputs": [
    {
     "data": {
      "text/plain": [
       "'한층 더 강력한 치트키, 독해진 팩트 폭격!\\n50주 연속 베스트셀러·40만 독자의 삶을 바꾼\\n『역행자』가 확장판으로 돌아왔다\\n\\n“절대로 읽지 마라!\\n죽을 때까지 순리자로 살고 싶다면!”\\n95퍼센트의 인간은 타고난 유전자와 본성의 꼭두각시로 살아간다. 이들은 평생 돈, 시간, 운명에게 속박되어, 평범함을 벗어나지 못하고 불행하게 사는 ‘순리자’다. 그러나 5퍼센트의 인간은 다르다. 이들은 타고난 유전자의 본성을 역행해 돈, 시간, 운명으로부터 완전한 자유를 얻는다. 본성을 거슬러 행복을 쟁취하는 이들이 바로 ‘역행자’다.\\n운명과 본능의 지배에서 벗어나 경제적 자유와 행복을 쟁취하는 라이프해킹의 비밀을 담은 책, 『역행자』가 2022년 출간된 지 1년 만에 확장판으로 다시 돌아왔다. ‘무자본 연쇄창업마’로서 30대 초반에 자동화 수익을 완성한 자청, 그가 10년 동안 시행착오를 겪으며 찾아낸 ‘역행자 7단계’ 모델을 담은 『역행자』는 2022년 출간 즉시 ‘전 서점 종합 베스트셀러 1위 달성’, ‘1년 만에 40만 부 판매’라는 대기록을 세우며 대한민국에 ‘역행자 신드롬’을 불러일으켰다.\\n『역행자』 확장판은 더욱 묵직해진 팩트 폭격과 뼈 때리는 사례들, 저자의 비밀 노하우인 ‘무자본 창업 7단계 공식’ 등을 수록하며 초판에 비해 무려 100페이지 가량의 분량이 추가되었다. 저자의 생생한 육성을 그대로 담았을 뿐만 아니라 『역행자』를 만나 완전히 다른 인생을 살고 있는 독자들의 생생한 경험담을 수록하여 독자들로 하여금 역행자가 되지 않고는 버틸 수 없게 만든다. 한층 더 강력해진 『역행자』 확장판만 있다면, 당신도 저자와 함께 ‘돈, 시간, 운명’으로부터 완전한 자유를 얻게 될 것이다.\\n\\n* 이 책은 2022년 출간된 『역행자』의 개정증보판입니다.'"
      ]
     },
     "execution_count": 263,
     "metadata": {},
     "output_type": "execute_result"
    }
   ],
   "source": [
    "book_explain.text"
   ]
  },
  {
   "cell_type": "code",
   "execution_count": 264,
   "id": "dde54f58",
   "metadata": {},
   "outputs": [],
   "source": [
    "author=driver.find_element(\n",
    "        By.CSS_SELECTOR,\n",
    "        '#scrollSpyProdInfo > div.product_detail_area.product_person > div.round_gray_box'\n",
    "    )"
   ]
  },
  {
   "cell_type": "code",
   "execution_count": 265,
   "id": "4ee1a9db",
   "metadata": {},
   "outputs": [
    {
     "data": {
      "text/plain": [
       "'저자(글) 자청\\n인물정보\\n경영인/사업가 경영인/사업가\\n30대 초반에 경제적 자유를 이룬 사업가이자 ‘역행자’ 신드롬을 일으킨 베스트셀러 작가, 그리고 유튜브 크리에이터다.\\n자청은 ‘자수성가 청년’의 줄임말로, 이미 30대 초반에 어떤 일을 하지 않아도 월 1억씩 버는 자동 수익을 완성하고, 소유한 자산으로 매년 20퍼센트 이상의 투자 수익률을 올리며 경제적 자유를 실현했다. 그가 운영하는 대표적인 온라인 사업체로는 ‘이상한마케팅’, ‘프드프’, ‘아트라상’이 있다. 오프라인으로는 ‘욕망의북카페’, ‘청담인피니바’, ‘W라보’ 등이 있다. 2019년에는 자신의 유튜브 채널 〈라이프해커 자청〉에 단 20편의 영상을 업로드, 단기간에 16만 구독자를 달성하는 기염을 토했다.\\n저자는 ‘무자본 연쇄창업마’로 명성을 떨치며 수많은 사업을 성공시켰으나, 10대 때의 그는 외모, 돈, 공부, 어떤 점에서도 최하위였다. 그러던 스무 살 무렵, ‘인생에도 게임처럼 공략집이 있다’는 사실을 깨달으면서 삶이 180도 바뀌기 시작한다. 200여 권의 책을 독파하며 얻은 치트키들을 활용해 창업에 연이어 성공한 것이다. 저자가 성공시킨 비즈니스 모델은 ‘초보가 왕초보를 가르치는 것’이다. 어느 분야든 저렴한 가격으로 도움을 받고 싶은 왕초보의 수요는 분명히 존재한다. 이들에겐 기본만 알려줘도 일의 진척을 도울 수 있다. 이에 착안해 저자는 여러 비즈니스를 설계했다. 공통점은 투자비용 자체가 들어가지 않는 ‘무자본 창업’, 그리고 일하지 않아도 돈이 들어오는 ‘자동화 수익’이다. 어느새 유튜버 ‘라이프해커 자청’이라는 캐릭터와 ‘무자본 창업’이라는 개념은 사람들의 고정관념을 깨는 상징이 됐다.\\n자청의 첫 책 『역행자』는 부와 행복을 쟁취하기 위한 방법을 7단계 모델로 체계화하며 출간 즉시 전 서점 종합 베스트셀러 1위를 기록했다. 1년 만에 40만 부라는 기록적인 판매를 보이며 그야말로 신드롬을 불러일으켰다. 그는 오늘도 수많은 순리자들을 역행자의 길로 이끌고 있다.\\n펼치기\\n빅퀘스천'"
      ]
     },
     "execution_count": 265,
     "metadata": {},
     "output_type": "execute_result"
    }
   ],
   "source": [
    "author.text"
   ]
  },
  {
   "cell_type": "code",
   "execution_count": 266,
   "id": "ce2465e4",
   "metadata": {},
   "outputs": [],
   "source": [
    "contents=driver.find_element(\n",
    "        By.CSS_SELECTOR,\n",
    "        '#scrollSpyProdInfo > div.product_detail_area.book_contents > div.auto_overflow_wrap.overflow > div.auto_overflow_contents > div > ul > li'\n",
    "    )\n"
   ]
  },
  {
   "cell_type": "code",
   "execution_count": 267,
   "id": "a1502730",
   "metadata": {},
   "outputs": [
    {
     "data": {
      "text/plain": [
       "'확장판 서문 | 『역행자』를 뛰어넘은 『역행자』 확장판\\n프롤로그 | 30대 초반, 일하지 않아도 월 1억씩 버는 자동 수익이 완성되다\\n인생에도 공략집이 있다면\\n역행자 7단계 모델\\n세상에 공짜는 없지만\\n\\nCHAPTER1 나는 어떻게 경제적 자유에 이르게 되었나\\n1막/ 3개의 벽_ 인생에서 절대 넘을 수 없을 거라 믿었던 것\\n2막/ 하루 2시간, 기적의 시작_ 역행자의 첫 번째 단서\\n3막/ 배수의 진_ “19000원이 입금되었습니다”\\n4막/ 행운 뒤에 숨은 것_ ‘이보다 최악의 상황이 있을까?’\\n5막/ 인간의 그릇_ 결국 사람은 제 그릇만큼의 돈을 모은다\\n피날레/ 거슬러 오르기_ 돈, 시간, 정신으로부터 완벽한 자유를 얻다\\n\\nCHAPTER2 역행자 1단계_ 자의식 해체\\n자의식이 인간을 망치는 이유\\n내가 너무 소중한 사람들\\n자의식 해체의 3가지 단계\\n인생을 허비하는 특별한 방법\\n\\nCHAPTER3 역행자 2단계_ 정체성 만들기\\n내 머리를 포맷할 수 있다면\\n정체성 소프트웨어를 설치하기\\n자유의지가 없다는 믿음에 대하여\\n\\nCHAPTER4 역행자 3단계_ 유전자 오작동 극복\\n뇌는 어떻게 진화했을까\\n진화의 목적은 완벽함이 아니라 생존이다\\n유전자 오작동을 이기는 역행자의 사고방식\\n오작동을 극복하고 30억을 취하다\\n\\nCHAPTER5 역행자 4단계_ 뇌 자동화\\n뇌를 복리로 성장시킨다면\\n뇌 최적화 1단계_ 22전략\\n뇌 최적화 2단계_ 오목 이론\\n뇌 최적화 3단계_ 뇌를 증폭시키는 3가지 방법\\n\\nCHAPTER6 역행자 5단계_ 역행자의 지식\\n기버 이론_ 역행자는 1을 받으면 2를 준다\\n확률 게임_ 역행자는 확률에만 베팅한다\\n타이탄의 도구_ 유전자에 각인된 장인 정신을 역행하라\\n메타인지_ 주관적인 판단은 순리자들의 전유물이다\\n실행력 레벨과 관성\\n\\nCHAPTER7 역행자 6단계_ 경제적 자유를 얻는 구체적 루트\\n돈을 버는 근본 원리\\n경제적 자유라는 성을 함락시키는 방법\\n당신이 직장인이든 백수든 열아홉이든 쉰이든\\n경제적 자유를 위한 5가지 공부법\\n젊은 부자들은 어떻게 공부했을까\\n경제적 자유로 가는 알고리즘 설계\\n나를 부자로 만들어준 본질 강화란 무엇인가\\n\\nCHAPTER8 역행자 7단계_ 역행자의 쳇바퀴\\n역행자는 시시포스의 형벌을 레벨업의 기회로 만든다\\n어느 순간에 경제적 자유를 얻게 될까\\n\\n에필로그 | 역행자가 되어 완벽한 자유를 누려라\\n참고 | 나를 역행자로 만들어준 책 리스트\\n특별부록 | 곧바로 돈 버는 무자본 창업 아이템\\n독자후기 | 『역행자로 인생 역행한 사람들』'"
      ]
     },
     "execution_count": 267,
     "metadata": {},
     "output_type": "execute_result"
    }
   ],
   "source": [
    "contents.text"
   ]
  },
  {
   "cell_type": "code",
   "execution_count": 268,
   "id": "bf35523c",
   "metadata": {},
   "outputs": [],
   "source": [
    "book_in=driver.find_element(\n",
    "        By.CSS_SELECTOR,\n",
    "        '#scrollSpyProdInfo > div.product_detail_area.book_inside > div.auto_overflow_wrap.type_text.overflow > div.auto_overflow_contents > div > p'\n",
    "    )"
   ]
  },
  {
   "cell_type": "code",
   "execution_count": 269,
   "id": "40b7247a",
   "metadata": {},
   "outputs": [
    {
     "data": {
      "text/plain": [
       "'학창 시절 내내 나의 인생은 3개의 큰 벽으로 가로막혀 있었다. 공부, 돈, 외모. 학교 꼴찌이자 인생 막장인 나는 이 벽들에 갇힌 채 좀비처럼 아무 생각 없이 살아갔다. …중략… 인생에 어떤 희망도 없었으며, 죽을 때까지 월 200만 원 이상 벌 수 없을 거라 확신했다. 내 꿈은 오로지 반월공단 공장에 취직한 후 원룸에서 살며 평생 게임만 하는 삶이었다. 나는 현실이 싫었고 게임 속 세상이 너무 좋았다. 실제로 중고등학생 때는 깨어 있는 시간을 모두 게임만 하며 살았다. _21~22쪽 〈프롤로그〉 중에서\\n\\n그 후에 어떻게 되었느냐고? 여기서부턴 많은 이들이 아는 대로다. 서른하나, 아무 일 하지 않아도 매월 5000만 원을 버는 구조를 만들었다. 몸은 완전히 회복되어 스포츠를 즐기기 시작했다. 서른둘, ‘이상한마케팅’이라는 회사를 만들었다. 서른셋, 한 달 순수익이 8000만 원을 돌파하기 시작했다. ‘자청’이라는 닉네임으로 유튜브를 시작해 6개월 만에 16만 구독자를 만들고 은퇴했다. …중략… 서른넷, 그동안엔 상상하기 어려웠던 규모로 수익의 시너지가 나기 시작했다. 사업이 커지면서 직원들을 대규모로 뽑기 시작했다. 서른다섯, 정직원과 아르바이트생 포함 130여 명의 구성원들과 함께 일을 하고 있다. ‘이상한마케팅’, ‘아트라상’, ‘프드프’ 등의메인 회사를 비롯, 총 6개의 사업과 4개의 지분 투자 사업이 자동수익을 만들어내고 있다. _76~77쪽 〈챕터1 나는 어떻게 경제적 자유에 이르게 되었나〉 중에서\\n\\n돈을 버는 실질적인 방법론을 눈앞에서 가르쳐줘도 “저는 돈보다 중요한 가치가 있다고 생각해요. 안 알려주셔도 돼요”라고 우아를 떤다. 누구보다 돈을 원하고, 돈 때문에 인생의 자유를 박탈당하고, 때로는 돈 앞에서 치사한 행동을 하는 사람조차도. 하지만 본인이 이런 모순된 사고를 한다는 것을 인정하지 않는다. 대다수의 사람들은 자의식의 꼭두각시 줄에 놀아난다. 이 끈을 잘라내야만 자유로 전진할 수 있다. 자의식은 인간에게 필수적인 심리기제지만, 자유로 가는 거의 모든 길목에서 사람들을 방해한다. _84쪽 〈챕터2 역행자 1단계_자의식 해체〉 중에서\\n\\n크게 성공한 수많은 사람이 입을 모아 말하듯이, 이런 결정적 사건들은 인생을 바꾸는 계기가 되곤 한다. 극한의 불행을 역전의 계기로 바꿔낸 역행자들은 그래서 드라마틱한 스토리를 갖고 있을 때가 많다. 하지만 우리 모두가 이런 큰 변화의 계기를 만날 확률은 극히 낮다. …중략… 그렇다면 자수성가한 사람들이 겪는 엄청난 사건, 정체성을 바꾸는 사건을 인위적으로 만들어낼 수 있다면 어떨까? 0.1퍼센트만이 겪는 대사건을 만들어낼 수 있다면 내 정체성을 드라마틱하게 바꿀 수 있지 않을까? 나는 그것이 가능하다고 생각하고, 이걸 ‘정체성 만들기’라고 이름 붙였다. 이 정체성 이론은 역행자가 되는 데 매우 중요한 스킬이다. _113쪽 〈챕터3 역행자 2단계_정체성 만들기〉 중에서\\n\\n클루지 바이러스를 의식하게 되면 삶이 어떻게 바뀔까. 유튜브 열풍이 불면서 “나도 이제 유튜브 하려고”라고 말하는 사람은 100명이 넘지만 정말 시작하는 건 3명이 될까 말까다. 왜 사람들은 결심만 하고 실행을 못 할까? 인간은 새로운 도전을 꺼리도록 진화했기 때문이다. 만약 원시시대 사람이 새롭게 도전을 한답시고 오지에 가거나 호랑이에게 덤볐다간 큰 부상을 당하거나 죽었을 것이다. …중략… 이처럼 조심 성 강한 유전자는 과거에는 꼭 필요한 것이었지만 오늘날엔 열등한 것, 즉 클루지로 남았다. 과거엔 새로운 도전이 생존과 직결됐지만 지금은 그렇지 않다. 유튜브나 블로그, 새로운 플랫폼에 도전하다 실패해도 죽지 않는다. _156~157쪽 〈챕터4 역행자 3단계_유전자 오작동 극복〉 중에서\\n\\n‘22전략’은 가장 좋은 뇌 최적화 방법이다. 근육이 빵빵한 사람들은 어떻게 그 몸을 가지게 되었을까? 그들은 수년간 1주일에 몇 회씩 ‘근력 운동’을 반복한다. 그 결과 대단한 근육을 만들 수 있었다.\\n근육을 성장시키기 위해선 ‘꾸준히 근육을 자극’해야 한다. …중략… 마찬가지로 뇌를 성장시키기 위해선 책 읽기와 글쓰기가 가장 효율적인 방법이다. 이 이상의 방법은 없다고 단언한다. 22전략이란 별게 아니다. 2년간, 매일 2시간씩 책을 읽고 글을 쓰는 걸 말한다. 나는 이 덕분에 뇌를 발달시킬 수 있었다. 스물세 살에야 대학에 들어갔음에도 2년간 22전략을 실천하여 스물넷 겨울에 첫 사업을 성공시켰고 매월 순수익 3000만 원을 벌었다. 밑바닥에서 튀어 오르다시피 한 반전이었다. _181쪽 〈챕터5 역행자 4단계_뇌 자동화〉 중에서\\n\\n\\n당신은 인생을 무엇이라고 생각하는가? 나는 인생을 일종의 게임으로 본다. 이 책이 역행자의 인생 공략집이라는 콘셉트를 갖고 있는 것도 그 때문이다. 다만 인생이라는 게임은 좀 독특하다. 인생 게임은 태어날 때 로그인한 후 죽을 때에야 로그아웃하는 초장기 게임이다. 중간에 마음대로 그만둘 수도 없고, 갑자기 팀을 바꿀 수도 없다. 누군가 초반에 크게 성공하는 것 같다가도 몇 십 년 후엔 완전히 망하기도 한다. 나처럼 그 반대인 경우도 있다. 그렇기 때문에 재미있고, 그래서 어렵다. _223쪽 〈챕터6 역행자 5단계_역행자의 지식〉 중에서\\n\\n이러면 누군가 또 이런 말을 한다. “그 사람들은 초절정 인기 유튜버잖아요. 좋은 콘텐츠를 만드는 특별한 재능이 있다고요.” 그럼 나의 친한 친구이자 내 유튜브 구독자인 정승호를 보자. 이 친구는 7년간 회사를 다니면서 돈을 버는 족족 다 써버렸다. 그러다 어떤 계기로 투자를 공부하며 2년간 종잣돈을 모았다. 종잣돈으로 좋은 부동산을 사려 했는데 돈이 부족했다. 그래서 낡고 입지 좋은 곳에 스터디카페를 만들었다. 이 무인 스터디카페가 크게 성공하자 2년 만에 13개로 확장, 현재 월 1억 이상 수익을 내고 있다. _272~273쪽 〈챕터7 역행자 6단계_경제적 자유를 얻는 구체적 루트〉 중에서\\n\\n경제적 자유는 언제 다가올까? 정답을 말해볼까 한다. 당신이 레벨 1이라고 가정해보자. 이때 7단계를 거치면서 실패 지점까지 도달하면 ‘+레벨 1’이라는 결과를 얻어 레벨 2가 된다. 7단계를 반복하면서 레벨을 높이고, 실행과 실패를 반복하다 보면 어느 샌가 레벨 20에 도달한다. …중략… 7단계를 계속 반복하다 보면 어느 순간 레벨 50이 되어 있을 것이고, 뒤돌아보면 이미 경제적 자유에 도달한 자신을 확인할 수 있을 것이다. 사람마다 재능이 다르기 때문에 누군가는 몇 년 만에, 누군가는 10년 만에 도달할 것이다. 불평할 필요 없다. 순리자로 본능대로 살아갔을 때보다 적어도 3배 빨리 성과를 낼 테니까. _333~334쪽 〈챕터8 역행자 7단계_역행자의 쳇바퀴〉 중에서'"
      ]
     },
     "execution_count": 269,
     "metadata": {},
     "output_type": "execute_result"
    }
   ],
   "source": [
    "book_in.text"
   ]
  },
  {
   "cell_type": "code",
   "execution_count": 270,
   "id": "e463b707",
   "metadata": {},
   "outputs": [],
   "source": [
    "sir_pyoung=driver.find_element(\n",
    "        By.CSS_SELECTOR,\n",
    "        '#scrollSpyProdInfo > div.product_detail_area.book_publish_review > div.auto_overflow_wrap.type_text.overflow > div.auto_overflow_contents > div > p'\n",
    "    )"
   ]
  },
  {
   "cell_type": "code",
   "execution_count": 271,
   "id": "f4098ee5",
   "metadata": {},
   "outputs": [
    {
     "data": {
      "text/plain": [
       "\"★★ 50주 연속 베스트셀러, 전 서점 종합 1위\\n★★ 2022년 가장 많이 팔린 책(논픽션 기준)\\n★★ '역행자 신드롬'을 일으킨 2022년 올해의 책\\n★★ 기록적 판매 신화! 1년 만에 40만 부 돌파\\n\\n“최악의 인생이었다.\\n하지만 단 하나의 공략집을 발견했고\\n내 인생은 즐거운 놀이터가 되었다!”\\n무자본 연쇄창업마, 라이프해커 자청의 인생 역주행 공식\\n\\n농장에 있는 닭을 보라. 이들에게 자유의지가 있다고 말할 수 있을까? 이 닭은 평생 한정된 울타리 안에서 살며, 유전자 명령에 따라 행동한다. 짝짓기를 하고, 알을 낳고, 다른 닭과 싸우기도 한다. 닭은 자신에게 ‘자유’가 있다고 생각할 것이다. 하지만 인간의 관점에서 이 닭의 운명은 태어나면서부터 정해져 있다. 인간의 삶도 크게 다르지 않다. 자신에게 ‘자유의지’가 있다고 착각하지만, 모두 망상이다. 인간도 유전자, 무의식, 자의식의 울타리에 갇혀 평범하게 살다가 죽는다. 그것이 바로 ‘순리자’의 길이다. 그러나 5퍼센트의 인간은 다르다. 이들은 타고난 유전자의 본성을 역행해 돈, 시간, 운명으로부터 완전한 자유를 얻는다. 본성을 거슬러 행복을 쟁취하는 이들이 바로 ‘역행자’다.\\n『역행자』는 오타쿠 흙수저에서 월 1억 자동 수익을 실현한 라이프해커 자청의 인생 역주행 공식을 담은 책이다. 자청은 인생은 마치 게임과도 같아서, 인생 공략집만 있다면 유전자, 무의식, 자의식의 울타리를 끊어내고 누구나 인생 역행의 기회를 쟁취할 수 있다고 말한다. 자청은 ‘자수성가 청년’의 줄임말로, 무자본 창업을 통해 30대 초반 월 1억씩 버는 ‘자동화 수익’을 만들었다. 하지만 스무 살의 자청 역시 순리자에 불과했다. 그의 외모, 돈, 공부는 모두 최하위였고, 평생 반월공단에 취직해 월급 200만 원을 받으며 원룸에서 게임만 하며 사는 게 소원이었다. 그러나 스무 살 무렵, ‘인생에도 게임처럼 공략집이 있다’는 사실을 깨닫고 삶이 180도 바뀌기 시작한다. 200여 권의 책을 독파하며 얻은 인생의 치트키들을 활용해 창업에 연이어 성공했고, 10년 만에 경제적 자유를 이뤘다. 이 과정에서 수많은 시행착오를 겪으며 자신만의 ‘역행자 7단계’ 이론을 완성시켰다.\\n『역행자』에는 저자가 10년 동안의 시행착오 끝에 찾아낸 ‘역행자 7단계’ 모델이 고스란히 담겨 있다. 유전자, 무의식, 자의식의 울타리를 끊어낼 강력한 ‘역행자 7단계’라는 무기만 있다면, 직장이든 백수든 열아홉이든 쉰이든 그 누구라도 경제적 자유를 누리고 행복한 삶을 살 수 있다.\\n이 책은 ‘돈 버는 법’에 대한 이론뿐 아니라 구체적인 방법들을 모두 소개한다. 책에는 “자의식 해체의 3가지 단계”, “정체성 소프트웨어를 설치하기”, “유전자 오작동을 이기는 역행자의 사고방식”, “뇌 최적화와 뇌 자동화”, “기버 이론, 확률 게임, 타이탄의 도구, 메타인지 등의 개념이 정리된 역행자의 지식”, “돈 버는 근본 원리”, “경제적 자유를 얻는 구체적 루트”, “나를 역행자로 만들어준 책 리스트”, “곧바로 돈 버는 무자본 창업 아이템”, “인생 역행한 독자 후기” 등의 내용으로 빼곡히 채웠다.\\n\\n\\n“여기서 더 새로워질 수 있다니 놀랍다!\\n『역행자』를 뛰어넘은 『역행자』 확장판”\\n1년 만에 40만 독자들의 삶을 뒤바꾼 레전드 자기계발서가\\n2023년 확장판으로 다시 태어났다!\\n\\n“사업이나 유튜브로는 너를 인정하지만, 책은 절대 안 될 거야. 첫 책으로 베스트셀러 1위를 하는 경우는 매우 드물어.” 『역행자』출간 전, 저자의 지인들은 고개를 저었다. 하지만 『역행자』는 출간 후 바로 베스트셀러 1위에 오르며, 전례 없는 판매량을 기록해 대한민국에 ‘역행자 신드롬’을 일으켰다. 2023년 초에 개최된 『역행자』 리뷰 대회에는 400여 명이 참여해 1년간 자신의 인생이 얼마나 많이 변했고, 얼마나 큰 행복을 누리고 있는지 앞다퉈 간증했다. 지금도 수많은 사람들이 자청의 성공 공식을 실천하며 새로운 삶으로 나아가고 있다.\\n매운 맛으로 돌아온 『역행자』 확장판은 돈, 시간, 운명의 족쇄를 벗지 못해 허덕이는 사람들에게 진정한 행복과 자유가 무엇인지 알려줄 것이다. 이 책은 기존 『역행자』에서 약 100페이지 분량을 추가한 ‘확장판’으로 저자의 독설, 직설적인 표현과 1년간 추가된 경험치를 곳곳에 녹여 넣었다. 역행자 7단계 이론’이 한층 강화되었고, 저자의 거침없는 표현을 편집 없이 그대로 담았으며, 저자만의 새로운 경험과 비법들을 곳곳에 채워 넣었다.\\n특히 부록에는 ‘무자본 연쇄창업마’로도 불리는 자청의 특별 비법인 ‘무자본 창업 7단계 공식’을 더했다. 무자본 창업 팁은 기존 『역행자』 독자들이 가장 많이 요청했던 내용으로, 경제적 자유를 꿈꾸지만 당장 자본금이 없는 독자들이라면 반드시 읽어봐야 할 부분이다.\\n책 말미엔 『역행자』 리뷰 대회에는 참여한 400여 명의 독자 중 우수 리뷰 20명의 내용일 일부 발췌해 실었다. 『역행자』에 따르면 “인간은 거울 뉴런을 가진 덕분에 남의 스토리를 읽으면 거기에 자신을 투영하게 된다”고 한다. 이 책에 실린 20명의 ‘인생 역행 이야기’를 읽다보면 어느새 역행자의 첫 번째 계단에 올라와 있는 자기 자신을 발견하게 될 것이다.\\n\\n\\n“월 1000만 원 자동 수익을 얻는 방법은 간단하다!\\n부디 당신의 자의식이 이 책을 걷어차지 않기를!”\\n운명과 본능의 지배에서 벗어나\\n경제적 자유와 행복한 인생을 쟁취하는 라이프해킹의 비밀\\n\\n세상에는 성공할 수 있는 공략집이 분명히 존재한다. 이를 믿는다면 당신은 그저 순서대로만 움직이면 된다. 분명히 말할 수 있는 점은, 이 책을 통해 수천억 자산가가 되는 법은 알려줄 수 없겠지만 자유를 얻는 법에 대한 힌트를 전달할 자신이 있다는 것이다. 저자는 인생의 공략집이라고 생각한 이 특별한 방법들에 ‘역행자의 7단계 모델’이라는 이름을 붙였다.\\n\\n1단계 〈자의식 해체〉 대부분의 사람들이 인생에서 완전한 자유를 얻지 못하는 이유는 과잉 자의식 때문이다. 아무리 성공한 사람이 옆에 있어도, 아무리 좋은 책을 눈앞에 두어도, 방법을 떠먹여줘도 소용없다. 대다수는 자의식을 보호하기 위해 온갖 방어기제로 일생일대의 정보를 쳐낸다. 자의식을 해체하지 않는 이상 그 어떤 발전도 할 수 없다. 열등감을 버리고 자신의 상황을 인정할 때 변화가 시작된다.\\n\\n2단계 〈정체성 만들기〉 결정적 사건들은 인생을 바꾸는 계기가 되곤 한다. 극한의 불행을 역전의 계기로 바꿔낸 역행자들은 그래서 드라마틱한 스토리를 갖고 있을 때가 많다. 그렇다면 자수성가한 사람들이 겪는 엄청난 사건, 정체성을 바꾸는 사건을 인위적으로 만들어낼 수 있다면 어떨까? 0.1퍼센트만이 겪는 대사건을 만들어낼 수 있다면 자신의 정체성을 드라마틱하게 바꿀 수 있지 않을까? 저자는 그것이 가능하다고 생각하고, 이것을 ‘정체성 만들기’라고 말한다.\\n\\n3단계 〈유전자 오작동 극복〉 유튜브 열풍이 불면서 “나도 이제 유튜브 하려고”라고 말하는 사람 100명 중 정말 시작하는 건 3명이 될까 말까다. 왜 사람들은 결심만 하고 실행을 못 할까? 조심성 강한 유전자는 과거에는 꼭 필요한 것이었지만 오늘날엔 열등한 것, 즉 클루지로 남았다. 그리하여 오늘날에는 아무것도 하지 않는 것이 ‘자유 박탈’이라는 결과를 낳는다. 일평생 인생을 장악할 수도 없이 돈과 시간으로부터 속박되어 살아가는 것이다. 이러한 유전자 오작동을 의식적으로 이겨내야 지금까지와는 다른 성공을 일굴 수 있다.\\n\\n4단계 〈뇌 자동화〉 권투 선수가 운동을 해둬서 ‘신체 최적화’를 이뤄내면 그것으로 평생 돈을 벌며 살듯이, 인간 또한 한번 뇌를 최적화해두면 일평생 앞서나갈 수 있게 된다. 최적화를 해둔 뇌는 날로 뇌가 업그레이드되며 나이를 먹을수록 오히려 더 강력해진다. 나아가 뇌를 최적화해두면 아무 일을 하지 않아도 자동으로 돈을 벌어들이는 ‘자동 수익’에 이를 수 있다. 이번 단계는 이러한 ‘뇌 최적화 방법’에 대해 소개한다.\\n\\n5단계 〈역행자의 지식〉 본성을 역행하는 지식을 알고 있다면, 순리자와는 다른 삶을 살 수밖에 없다. 저자 또한 역행자의 지식을 통해 하루하루 차이를 만들어냈고, 최악의 인생에서 ‘완전한 자유를 얻은 인생’으로 탈바꿈할 수 있었다. 물론 역행자가 된다고 해서 하루아침에 자유를 얻는 일은 없을 것이다. 1년 만에 자유를 얻을 확률도 극히 낮을 것이다. 하지만 3년, 5년, 10년 후면, 일반인과 현격한 차이를 갖게 될 것이다.\\n\\n6단계 〈경제적 자유를 얻는 구체적 루트〉 돈 버는 일은 엄청 복잡하고 어려워 보이지만 원리는 간단하다. 돈을 버는 모든 활동은 다음 두 가지로 수렴된다. “상대를 편하게 해주기” 혹은 “상대를 행복하게 해주기.” 겨우 이게 돈 버는 근본 원리라니까 허탈한가? 그렇지 않다. 이 2가지야말로 사업과 투자의 시작이자 끝이다. 이번 단계에서는 구체적으로 경제적 자유를 얻는 공식을 제안할 생각이다. 당신이 대기업 임원이든, 무스펙 노동자든, 백수든 상관없다. 모든 경우의 수를 고려하여 ‘경제적 자유에 이르는 테크트리’를 알려줄 것이다.\\n\\n7단계 〈역행자의 쳇바퀴〉 단 한 경기도 패배하지 않은 테니스 선수는 없다. 한 번도 패배하지 않은 축구 선수는 없다. 세계 최고의 운동 선수들은 수천 번의 패배 속에서 성장을 반복한다. 그리고 전성기를 얻는다. 패배를 반복함으로써 운동 선수는 ‘세계 최고’라는 타이틀을 얻게 된다. 역행자 모델에 따라 실패를 반복하면서 일반인은 ‘자유’라는 타이틀을 얻게 된다. 사실 인생이라는 게임도 별반 다르지 않다. ‘그다음 목표’는 지금까지 상대해왔던 적들보다 수준이 높을 수밖에 없기 때문이다. 실패를 해야만 ‘레벨업’ 버튼을 누를 수 있다.\\n\\n죽어라 노력하지만 영원히 자유를 얻지 못하는 사람들이 있다. 이들을 가만히 보면 7단계 중 특정 단계에만 몰입해 있거나, 몇 단계를 건너뛰는 문제를 갖고 있다. 그래서 열심히는 살지만 자의식의 방해를 받아 ‘돈 버는 법’ 자체에 심한 거부감을 갖고 있거나(1단계), ‘내 한계는 여기까지야’라는 정체성에 매몰되어 자신의 몫만큼만 일을 한다(2단계). 혹은 유전자와 본성의 휘둘려 이성적인 판단을 하지 못하거나(3단계), 뇌가 더는 발달하지 못해 새로운 정보를 처리하지 못한다(4단계). 확률 게임 대신 ‘잃는 게임’을 반복하거나(5단계), 5단계까지 알고 있지만 구체적으로 경제적 자유를 얻는 루트를 알지 못할 수도 있다(6단계).\\n대부분의 사람들은 무조건 노력만 할 뿐 노력들의 연쇄 작용을 모르기 때문에 엉뚱한 데에 힘을 쏟다가 지쳐 포기한다. 혹은 “돈은 인생에서 별로 중요한 게 아니야” 같은 합리화를 하며 원래 있던 곳으로 후퇴한다. 그보다는 영리한 노력이 있어야 한다. 저자는 수많은 시행착오와 반성을 통해 이 노력들에 일정한 패턴과 배열이 있어야 한다는 걸 알아냈다. 그리고 첫 책 『역행자』에서 이러한 비밀을 제대로 공개한다. 자, 놀면서 자유를 얻을 준비가 되었나? 이제는 시작해보자.\""
      ]
     },
     "execution_count": 271,
     "metadata": {},
     "output_type": "execute_result"
    }
   ],
   "source": [
    "sir_pyoung.text"
   ]
  },
  {
   "cell_type": "code",
   "execution_count": 272,
   "id": "23ad99f3",
   "metadata": {},
   "outputs": [],
   "source": [
    "isbn=driver.find_element(\n",
    "        By.CSS_SELECTOR,\n",
    "        '#scrollSpyProdInfo > div.product_detail_area.basic_info > div.tbl_row_wrap > table > tbody > tr:nth-child(1) > td'\n",
    "    )"
   ]
  },
  {
   "cell_type": "code",
   "execution_count": 273,
   "id": "ee991f5f",
   "metadata": {},
   "outputs": [
    {
     "data": {
      "text/plain": [
       "'9788901272580'"
      ]
     },
     "execution_count": 273,
     "metadata": {},
     "output_type": "execute_result"
    }
   ],
   "source": [
    "isbn.text"
   ]
  },
  {
   "cell_type": "code",
   "execution_count": 274,
   "id": "2f097379",
   "metadata": {},
   "outputs": [],
   "source": [
    "star=driver.find_element(\n",
    "        By.CSS_SELECTOR,\n",
    "        '#ReviewList1 > div.klover_review_box > div.klover_box_left > div.box_top > div > div.caption > span > span.val'\n",
    "    )"
   ]
  },
  {
   "cell_type": "code",
   "execution_count": 275,
   "id": "2bc8e43f",
   "metadata": {},
   "outputs": [
    {
     "data": {
      "text/plain": [
       "'9.4'"
      ]
     },
     "execution_count": 275,
     "metadata": {},
     "output_type": "execute_result"
    }
   ],
   "source": [
    "star.text"
   ]
  },
  {
   "cell_type": "code",
   "execution_count": 276,
   "id": "dddb3369",
   "metadata": {},
   "outputs": [],
   "source": [
    "help=driver.find_element(\n",
    "        By.CSS_SELECTOR,\n",
    "        '#ReviewList1 > div.klover_review_box > div.klover_box_right'\n",
    "    )"
   ]
  },
  {
   "cell_type": "code",
   "execution_count": 277,
   "id": "8ee18b4b",
   "metadata": {},
   "outputs": [
    {
     "data": {
      "text/plain": [
       "'32%의 구매자가\\n도움돼요 라고 응답했어요\\n25%\\n집중돼요\\n32%\\n도움돼요\\n9%\\n쉬웠어요\\n13%\\n최고예요\\n21%\\n추천해요'"
      ]
     },
     "execution_count": 277,
     "metadata": {},
     "output_type": "execute_result"
    }
   ],
   "source": [
    "help.text"
   ]
  },
  {
   "cell_type": "code",
   "execution_count": 278,
   "id": "cbc417a3",
   "metadata": {},
   "outputs": [],
   "source": [
    "review_date=driver.find_element(\n",
    "        By.CSS_SELECTOR,\n",
    "        '#ReviewList1 > div.tab_wrap.type_sm > div.tab_content > div > div.comment_list > div:nth-child(1) > div.comment_header > div.left_area > div > span:nth-child(4)'\n",
    "    )"
   ]
  },
  {
   "cell_type": "code",
   "execution_count": 279,
   "id": "d201ba99",
   "metadata": {},
   "outputs": [
    {
     "data": {
      "text/plain": [
       "'2023.06.04'"
      ]
     },
     "execution_count": 279,
     "metadata": {},
     "output_type": "execute_result"
    }
   ],
   "source": [
    "review_date.text"
   ]
  },
  {
   "cell_type": "code",
   "execution_count": 280,
   "id": "6181b95c",
   "metadata": {},
   "outputs": [],
   "source": [
    "review=driver.find_element(\n",
    "        By.CSS_SELECTOR,\n",
    "        \"#ReviewList1 > div.tab_wrap.type_sm > div.tab_content > div > div.comment_list > div:nth-child(1) > div.comment_contents > div > div > div > div\"\n",
    "    )"
   ]
  },
  {
   "cell_type": "code",
   "execution_count": 281,
   "id": "aab01db4",
   "metadata": {},
   "outputs": [
    {
     "data": {
      "text/plain": [
       "'그냥 최악의 책\\n역행자 만들어준다는 책을 팔아서 본인이 부자가 된다는 아주 얄팍한 생각에 다들 낚이지 마세요~'"
      ]
     },
     "execution_count": 281,
     "metadata": {},
     "output_type": "execute_result"
    }
   ],
   "source": [
    "review.text"
   ]
  },
  {
   "cell_type": "code",
   "execution_count": 282,
   "id": "6f6e5213",
   "metadata": {},
   "outputs": [],
   "source": [
    "score=driver.find_element(\n",
    "        By.CSS_SELECTOR,\n",
    "        '#ReviewList1 > div.tab_wrap.type_sm > div.tab_content > div > div.comment_list > div:nth-child(4) > div.comment_header > div.right_area > div > input'\n",
    "    )"
   ]
  },
  {
   "cell_type": "code",
   "execution_count": 283,
   "id": "2cdea22c",
   "metadata": {},
   "outputs": [
    {
     "data": {
      "text/plain": [
       "'2.5'"
      ]
     },
     "execution_count": 283,
     "metadata": {},
     "output_type": "execute_result"
    }
   ],
   "source": [
    "score.get_attribute(\"value\")"
   ]
  },
  {
   "cell_type": "code",
   "execution_count": 284,
   "id": "6e1bb0d3",
   "metadata": {},
   "outputs": [],
   "source": [
    "easy=driver.find_element(\n",
    "        By.CSS_SELECTOR,\n",
    "        \"#ReviewList1 > div.tab_wrap.type_sm > div.tab_content > div > div.comment_list > div:nth-child(1) > div.comment_header > div.right_area > div > span.review_quotes_text\"\n",
    "    )"
   ]
  },
  {
   "cell_type": "code",
   "execution_count": 285,
   "id": "10d6e8a8",
   "metadata": {},
   "outputs": [
    {
     "data": {
      "text/plain": [
       "'쉬웠어요'"
      ]
     },
     "execution_count": 285,
     "metadata": {},
     "output_type": "execute_result"
    }
   ],
   "source": [
    "easy.text"
   ]
  },
  {
   "cell_type": "code",
   "execution_count": 286,
   "id": "0ee8010f",
   "metadata": {},
   "outputs": [],
   "source": [
    "good=driver.find_element(\n",
    "        By.CSS_SELECTOR,\n",
    "        '#ReviewList1 > div.tab_wrap.type_sm > div.tab_content > div > div.comment_list > div:nth-child(1) > div.comment_footer > div > div > button.btn_like > span.text'\n",
    "    )"
   ]
  },
  {
   "cell_type": "code",
   "execution_count": 287,
   "id": "6fa98e49",
   "metadata": {},
   "outputs": [
    {
     "data": {
      "text/plain": [
       "'56'"
      ]
     },
     "execution_count": 287,
     "metadata": {},
     "output_type": "execute_result"
    }
   ],
   "source": [
    "good.text"
   ]
  },
  {
   "cell_type": "code",
   "execution_count": 288,
   "id": "9af0dc33",
   "metadata": {},
   "outputs": [],
   "source": [
    "review2=driver.find_element(\n",
    "        By.CSS_SELECTOR,\n",
    "        '#ReviewList1 > div.tab_wrap.type_sm > div.tab_content > div > div.comment_list > div:nth-child(6) > div.comment_contents > div > div > div > div'\n",
    "    )"
   ]
  },
  {
   "cell_type": "code",
   "execution_count": 289,
   "id": "59e4e91f",
   "metadata": {},
   "outputs": [
    {
     "data": {
      "text/plain": [
       "'책에서 깊이가 느껴지지 않음.. 자기계발서로도 그닥...\\n그냥 한 사람이 이렇게 바뀌었구나~ 참조정도가 적당한..\\n\\n베스트셀러는 잘 쓴 책이 아니라, 마케팅을 잘 한 책이라고 느껴짐'"
      ]
     },
     "execution_count": 289,
     "metadata": {},
     "output_type": "execute_result"
    }
   ],
   "source": [
    "review2.text"
   ]
  },
  {
   "cell_type": "code",
   "execution_count": 290,
   "id": "dd3cc875",
   "metadata": {},
   "outputs": [],
   "source": [
    "from selenium.webdriver.common.keys import Keys\n",
    "# 리뷰 다음 버튼\n",
    "a =driver.find_element(\n",
    "    By.CSS_SELECTOR,\n",
    "    '#ReviewList1 > div.tab_wrap.type_sm > div.tab_content > div > div.pagination > button.btn_page.next').send_keys(Keys.ENTER)"
   ]
  },
  {
   "cell_type": "code",
   "execution_count": 309,
   "id": "3e340b47",
   "metadata": {},
   "outputs": [],
   "source": [
    "driver.quit()"
   ]
  },
  {
   "cell_type": "code",
   "execution_count": null,
   "id": "fcec4403",
   "metadata": {},
   "outputs": [],
   "source": [
    "\n"
   ]
  },
  {
   "cell_type": "code",
   "execution_count": null,
   "id": "e337191a",
   "metadata": {},
   "outputs": [],
   "source": []
  },
  {
   "cell_type": "code",
   "execution_count": null,
   "id": "4b222579",
   "metadata": {},
   "outputs": [],
   "source": []
  },
  {
   "cell_type": "code",
   "execution_count": null,
   "id": "e33ff821",
   "metadata": {},
   "outputs": [],
   "source": []
  },
  {
   "cell_type": "code",
   "execution_count": null,
   "id": "f2f0aef3",
   "metadata": {},
   "outputs": [],
   "source": []
  },
  {
   "cell_type": "code",
   "execution_count": null,
   "id": "1eb2f9bd",
   "metadata": {},
   "outputs": [],
   "source": []
  },
  {
   "cell_type": "code",
   "execution_count": null,
   "id": "c918e863",
   "metadata": {},
   "outputs": [],
   "source": []
  },
  {
   "cell_type": "code",
   "execution_count": null,
   "id": "27f42c0a",
   "metadata": {},
   "outputs": [],
   "source": []
  },
  {
   "cell_type": "code",
   "execution_count": null,
   "id": "61e31fdd",
   "metadata": {},
   "outputs": [],
   "source": []
  },
  {
   "cell_type": "code",
   "execution_count": null,
   "id": "b90c23fd",
   "metadata": {},
   "outputs": [],
   "source": []
  }
 ],
 "metadata": {
  "kernelspec": {
   "display_name": "Python 3 (ipykernel)",
   "language": "python",
   "name": "python3"
  },
  "language_info": {
   "codemirror_mode": {
    "name": "ipython",
    "version": 3
   },
   "file_extension": ".py",
   "mimetype": "text/x-python",
   "name": "python",
   "nbconvert_exporter": "python",
   "pygments_lexer": "ipython3",
   "version": "3.10.10"
  }
 },
 "nbformat": 4,
 "nbformat_minor": 5
}
